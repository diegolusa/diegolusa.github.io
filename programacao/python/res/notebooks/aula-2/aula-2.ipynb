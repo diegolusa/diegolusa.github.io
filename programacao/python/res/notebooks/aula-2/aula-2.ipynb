{
 "cells": [
  {
   "cell_type": "markdown",
   "metadata": {},
   "source": [
    "### Exercício 1\n",
    "\n",
    "Desenvolva um programa para ler três valores numéricos inteiros (`x`, `y` e `z`), que serão informados pelo usuário. Destes valores recebidos, identificar o maior, o menor e o intermediário, apresentando-os em tela."
   ]
  },
  {
   "cell_type": "code",
   "execution_count": null,
   "metadata": {},
   "outputs": [],
   "source": [
    "# Informe sua resposta aqui"
   ]
  },
  {
   "cell_type": "markdown",
   "metadata": {},
   "source": [
    "### Exercício 2\n",
    "\n",
    "Solicite ao usuário um valor inteiro. Avalie a paridade do valor informado, escrevendo em tela **PAR** ou **ÍMPAR**. "
   ]
  },
  {
   "cell_type": "code",
   "execution_count": null,
   "metadata": {},
   "outputs": [],
   "source": [
    "# Informe sua resposta aqui"
   ]
  },
  {
   "cell_type": "markdown",
   "metadata": {},
   "source": [
    "### Exercício 3\n",
    "\n",
    "A Universidade de Passo Fundo passará a utilizar um sistema de avaliação baseado em conceitos. Contudo, seus professores estão acostumados a mensurar o aprendizado dos estudantes em uma escala de 0 a 100 pontos. Para tornar o processo de transição mais simples, a Pró-reitoria de Ensino encaminhou uma tabela de conversão de notas para conceitos. Assim, a média ponderada das avaliações semestrais de cada disciplina deverão ser convertidas pelos professores com base nesta tabela de referência. Cabe ressaltar que todo professor é obrigado a realizar `3` avaliações a cada semestre, com pesos `20`, `30` e `50`, respectivamente.\n",
    "\n",
    "\n",
    "<table  border=\"1\" align=\"center\">\n",
    "  <tbody>\n",
    "    <tr>\n",
    "      <td style=\"text-align: center;\"><strong>Intervalo de notas </strong></td>\n",
    "      <td style=\"text-align: center;\"><strong>Conceito </strong></td>\n",
    "      <td style=\"text-align: center;\"><strong>Resultado </strong></td>\n",
    "    </tr>\n",
    "    <tr>\n",
    "      <td> 0 - 20</td>\n",
    "      <td>E </td>\n",
    "      <td>REPROVADO</td>\n",
    "    </tr>\n",
    "    <tr>\n",
    "      <td>\n",
    "        <div>21 - 40</div>\n",
    "      </td>\n",
    "      <td>D</td>\n",
    "      <td>REPROVADO</td>\n",
    "    </tr>\n",
    "    <tr>\n",
    "      <td>\n",
    "        <div>\n",
    "          <div>41 - 60</div>\n",
    "        </div>\n",
    "      </td>\n",
    "      <td>C</td>\n",
    "      <td>EXAME</td>\n",
    "    </tr>\n",
    "    <tr>\n",
    "      <td>\n",
    "        <div>\n",
    "          <div>\n",
    "            <div>61 - 80</div>\n",
    "          </div>\n",
    "        </div>\n",
    "      </td>\n",
    "      <td>B</td>\n",
    "      <td>APROVADO</td>\n",
    "    </tr>\n",
    "    <tr>\n",
    "      <td>\n",
    "        <div>\n",
    "          <div>\n",
    "            <div>\n",
    "              <div>81 - 100</div>\n",
    "            </div>\n",
    "          </div>\n",
    "        </div>\n",
    "      </td>\n",
    "      <td>A</td>\n",
    "      <td>APROVADO</td>\n",
    "    </tr>\n",
    "  </tbody>\n",
    "</table>\n",
    "\n",
    "Com base nisso, pede-se que seja criado um programa que leia 3 notas (valores numéricos entre 0 e 100, obrigatoriamente). Com os valores lidos, apresente para o usuário a **média final** obtida, **conceito correspondente** e o **respectivo resultado**. Se o usuário informar para qualquer uma das notas valores fora do intervalo permitido $0 \\leq nota \\leq 100$, o programa deve gerar como saída o texto **NOTA INVÁLIDA**.\n",
    "\n",
    " "
   ]
  },
  {
   "cell_type": "code",
   "execution_count": null,
   "metadata": {},
   "outputs": [],
   "source": [
    "# Informe sua resposta aqui"
   ]
  },
  {
   "cell_type": "markdown",
   "metadata": {},
   "source": [
    "### Exercício 4\n",
    "\n",
    "Em Física, podemos medir a temperatura de corpos utilizando diferentes escalas termométricas. No Brasil, por exemplo, é comum utilizarmos Celsius (ºC), enquanto que nos Estados Unidos utiliza-se Fahrenheit (ºF). No meio científico, contudo, utiliza-se a Escala Kelvin $K$.\n",
    "\n",
    "Embora o cálculo de conversão entre escalas não seja complexo, ter em mãos uma forma rápida de fazê-lo é bem-vinda. E nada melhor que um programa em Python para resolver todo e qualquer problema, não é?!\n",
    "\n",
    "\n",
    "Nosso programa deve receber duas informações: escala e temperatura. Para escala, aceitar apenas $C$, $F$ ou $K$, representando a escala de origem e para temperatura, apenas números (com ou sem casas decimais). Como saída, o programa deve apresentar a temperatura convertida para as demais escalas.\n",
    "\n",
    "Vamos às fórmulas:\n",
    "\n",
    "- Kelvin para Celsius: $T_K - 273,15$\n",
    "- Fahrenheit para Celsius: $\\frac{T_F -32}{1,8}$\n",
    "- Celsius para Kelvin:  $T_C + 273,15$\n",
    "- Celsius para Fahrenheit: $T_C*1,8 + 32$"
   ]
  },
  {
   "cell_type": "code",
   "execution_count": null,
   "metadata": {},
   "outputs": [],
   "source": [
    "# Informe sua resposta aqui"
   ]
  },
  {
   "cell_type": "markdown",
   "metadata": {},
   "source": [
    "### Exercício 5\n",
    "\n",
    "Desenvolva um programa que solicite dois valores inteiros ao usuário. Obrigatoriamente, o primeiro valor deve ser menor que o segundo e ambos devem ser positivos, maiores que zero e pares. Com os dois valores lidos, o programa deve apresentar a imagem da função abaixo, considerando que o valor do domínio compreende a média aritmética dos valores recebidos.\n",
    "\n",
    "$f(x) = \\dfrac{x}{3} + x^{3} - \\dfrac{(x + x*4)}{2}$\n",
    "\n",
    " \n",
    "#### Validações\n",
    "\n",
    "- Quando o primeiro valor for maior que o segundo, a saída deve ser **PRIMEIRO VALOR É MAIOR QUE O SEGUNDO - INVÁLIDO**\n",
    "- Quando um dos valores (ou ambos) for ímpar,  a saída deve ser **ÍMPAR - INVÁLIDO**\n",
    "- Quando um dos valores (ou ambos) for menor ou igual a que zero, informar **NEGATIVO OU ZERO - INVÁLIDO**\n",
    "- A sequência de validações no código deve respeitar a ordem acima."
   ]
  },
  {
   "cell_type": "code",
   "execution_count": null,
   "metadata": {},
   "outputs": [],
   "source": [
    "# Informe sua resposta aqui"
   ]
  },
  {
   "cell_type": "markdown",
   "metadata": {},
   "source": [
    "### Exercício 6\n",
    "\n",
    "O calendário gregoriano introduziu o conceito de ano bissexto como uma forma de corrigir, a cada 4 anos, a diferença  de tempo entre o ano sideral (tempo de translação da Terra em torno do Sol) e o tempo de um ano do calendário. Em anos bissextos, o calendário é acrescido de 1 dia (24 horas).\n",
    "\n",
    "Podemos determinar se um ano é bissexto através de cálculos de resto de divisão inteira. Todo ano bissexto deve atender às seguintes condições:\n",
    "\n",
    "- Se 400 for um divisor do ano, então é bissexto;\n",
    "- Ou, se o ano for divisível por 4, mas não por 100, ele é considerado bissexto.\n",
    "\n",
    "Sabendo os critérios para identificar anos bissextos, iremos agora desenvolver um programa que fará este trabalho para nós. Basta que este programa solicite ao usuário o ano e, como saída, informar uma das mensagens abaixo, a depender do resultado.\n",
    "\n",
    "- **BISSEXTO**\n",
    "- **NÃO É BISSEXTO**\n",
    "- **ANO INVÁLIDO** (caso seja informado valor igual ou inferior a zero)"
   ]
  },
  {
   "cell_type": "code",
   "execution_count": null,
   "metadata": {},
   "outputs": [],
   "source": [
    "# Informe sua resposta aqui"
   ]
  },
  {
   "cell_type": "markdown",
   "metadata": {},
   "source": [
    "### Exercício 7\n",
    "\n",
    "Leia a idade de um nadador e escreva em tela a respectiva categoria em que se enquadra. Os intervalos de idade estão descritos na tabela que segue.\n",
    "\n",
    "<table border=\"1\">\n",
    "<tbody id=\"yui_3_17_2_1_1709686226278_76\">\n",
    "<tr>\n",
    "<td><span style=\"font-size: medium;\">&nbsp;infantil A</span></td>\n",
    "<td><span style=\"font-size: medium;\">&nbsp;5 - 7 anos&nbsp;</span></td>\n",
    "</tr>\n",
    "<tr>\n",
    "<td><span style=\"font-size: medium;\">&nbsp;infantil B&nbsp;</span></td>\n",
    "<td><span style=\"font-size: medium;\">&nbsp;8-10 anos</span></td>\n",
    "</tr>\n",
    "<tr>\n",
    "<td><span style=\"font-size: medium;\">&nbsp;juvenil A&nbsp;</span></td>\n",
    "<td><span style=\"font-size: medium;\">&nbsp;11-13 anos&nbsp;</span></td>\n",
    "</tr>\n",
    "<tr>\n",
    "<td><span style=\"font-size: medium;\">&nbsp;juvenil B&nbsp;</span></td>\n",
    "<td><span style=\"font-size: medium;\">&nbsp;14-17 anos&nbsp;</span></td>\n",
    "</tr>\n",
    "<tr id=\"yui_3_17_2_1_1709686226278_81\">\n",
    "<td><span style=\"font-size: medium;\">&nbsp;adulto</span></td>\n",
    "<td id=\"yui_3_17_2_1_1709686226278_80\"><span style=\"font-size: medium;\" id=\"yui_3_17_2_1_1709686226278_79\">&nbsp;maiores de 18 anos&nbsp;</span></td>\n",
    "</tr>\n",
    "</tbody>\n",
    "</table>"
   ]
  },
  {
   "cell_type": "code",
   "execution_count": null,
   "metadata": {},
   "outputs": [],
   "source": [
    "# Informe sua resposta aqui"
   ]
  }
 ],
 "metadata": {
  "kernelspec": {
   "display_name": "my-site-KsrRK7N3-py3.11",
   "language": "python",
   "name": "python3"
  },
  "language_info": {
   "name": "python",
   "version": "3.11.3"
  }
 },
 "nbformat": 4,
 "nbformat_minor": 2
}
