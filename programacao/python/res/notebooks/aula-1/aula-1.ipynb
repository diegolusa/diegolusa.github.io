{
 "cells": [
  {
   "cell_type": "markdown",
   "metadata": {},
   "source": [
    "### Exercício 1\n",
    "\n",
    "Solicite ao usuário dois números inteiros, aqui chamados de _a_ e _b_. Após lidos, o programa deve calcular o resultado da expressão $a*3 + 4*b$, escrevendo na saída padrão (console) o valor correspondente. Lembre-se das mensagens antes de leituras e saídas para explicar ao usuário o que está sendo feito. Veja o exemplo abaixo:\n",
    "\n",
    "**Mensagens**\n",
    "\n",
    "```\n",
    "Informe o primeiro valor inteiro:\n",
    "Informe o segundo valor inteiro:\n",
    "O resultado da expressão é ...\n",
    "\n",
    "```\n"
   ]
  },
  {
   "cell_type": "code",
   "execution_count": null,
   "metadata": {},
   "outputs": [],
   "source": [
    "# Resposta da exercício 1 aqui"
   ]
  },
  {
   "cell_type": "markdown",
   "metadata": {},
   "source": [
    "### Exercício 2\n",
    "\n",
    "Uma imobiliária vende terrenos retangulares ou quadrados para seus clientes. O valor de venda do terreno é determinado pela área do imóvel e o respectivo valor do metro quadrado. \n",
    "\n",
    "Desenvolva um programa para calcular automaticamente o valor de venda dos terrenos."
   ]
  },
  {
   "cell_type": "code",
   "execution_count": null,
   "metadata": {},
   "outputs": [],
   "source": [
    "# Resposta do exercício 2 aqui"
   ]
  },
  {
   "cell_type": "markdown",
   "metadata": {},
   "source": [
    "### Exercício 3\n",
    "\n",
    "Um motorista precisa de um programa para calcular o custo de suas corridas. Seu automóvel é movido a gasolina e tem consumo médio de 10KM/l. Além do combustível, há um custo de R$ 0.25 por KM rodado para fins de manutenção e seguro. Na cidade onde reside, o custo da gasolina é R$ 5.50 por litro atualmente."
   ]
  },
  {
   "cell_type": "code",
   "execution_count": null,
   "metadata": {},
   "outputs": [],
   "source": [
    "# Resposta do exercício 3 aqui"
   ]
  },
  {
   "cell_type": "markdown",
   "metadata": {},
   "source": [
    "### Exercício 4\n",
    "*Ei, a quantos segundos equivale 10h e 30 min?* Que tal fazer um programa para responder essa pergunta? Mas atenção: ele deve ser capaz de converter qualquer valor de horas e minutos em segundos. Não esqueça de orientar o usuário por meio de mensagens na tela!\n"
   ]
  },
  {
   "cell_type": "code",
   "execution_count": null,
   "metadata": {},
   "outputs": [],
   "source": [
    "# Resposta da exercício 4 aqui"
   ]
  },
  {
   "cell_type": "markdown",
   "metadata": {},
   "source": [
    "### Exercício 5\n",
    "\n",
    "No plano de ensino disponibilizado pelo professor está informado que a média final da disciplina é calculada com base em três avaliações. A primeira corresponde a um trabalho, com peso de 20% na média. A segunda avaliação é uma prova e seu peso é de 30%. A prova final preenche os demais 50% da média.\n",
    "\n",
    "Considerando que as notas são estabelecidas no intervalo entre 0 e 10, desenvolva um programa para auxiliar você e seus colegas a calcular média final."
   ]
  },
  {
   "cell_type": "code",
   "execution_count": 1,
   "metadata": {},
   "outputs": [],
   "source": [
    "# Resposta da exercício 5 aqui"
   ]
  },
  {
   "cell_type": "markdown",
   "metadata": {},
   "source": [
    "### Exercício 6\n",
    "\n",
    "Desenvolva um programa que leia a idade de uma pessoa expressa em anos, meses e dias e mostre a quantidade total de dias que corresponde a sua idade.\n"
   ]
  },
  {
   "cell_type": "code",
   "execution_count": null,
   "metadata": {},
   "outputs": [],
   "source": [
    "# Resposta do exercício 6 aqui"
   ]
  },
  {
   "cell_type": "markdown",
   "metadata": {},
   "source": [
    "### Exercício 7\n",
    "\n",
    "Desenvolva a idade de uma pessoa expressa em dias e a apresente expressa em anos, meses e dias. Considere anos de 365 dias e meses de 30 dias em seu cálculo."
   ]
  },
  {
   "cell_type": "code",
   "execution_count": null,
   "metadata": {},
   "outputs": [],
   "source": [
    "# Resposta do exercício 7 aqui"
   ]
  },
  {
   "cell_type": "markdown",
   "metadata": {},
   "source": [
    "### Exercício 8\n",
    "\n",
    "Você emprestou dinheiro a um amigo e agora precisa calcular o total de juro a cobrar. Na época do empréstimo, vocês combinaram juros compostos de 10% ao ano. Desde então se passaram 5 anos e está em tempo de receber os R$ 5.000,00. \n",
    "\n",
    "Para facilitar o cálculo deste empréstimo e de outros futuros, desenvolva um programa para calcular o montante devido (considerando juros compostos). "
   ]
  },
  {
   "cell_type": "code",
   "execution_count": null,
   "metadata": {},
   "outputs": [],
   "source": [
    "# Resposta do exercício 8 aqui"
   ]
  },
  {
   "cell_type": "markdown",
   "metadata": {},
   "source": [
    "### Exercício 9\n",
    "\n",
    "Vamos ter uma eleição em nossa turma para represente da classe. Precisamos de um programa para computar o número de votos \n",
    "brancos, nulos e válidos e então calcular e escrever o percentual que cada um representa em relação ao total \n",
    "de eleitores."
   ]
  },
  {
   "cell_type": "code",
   "execution_count": null,
   "metadata": {},
   "outputs": [],
   "source": [
    "# Resposta do exercício 9 aqui"
   ]
  },
  {
   "cell_type": "markdown",
   "metadata": {},
   "source": [
    "### Exercício 10\n",
    "\n",
    "\n",
    "O custo de um automóvel para consumidor final corresponde a soma do custo de fabricação acrescido de 45% em impostos, 10% de custos de logística e 5% de comissão no ato da venda. Precisamos de um programa que realize o cálculo do custo final dos veículos de uma concessionária."
   ]
  },
  {
   "cell_type": "code",
   "execution_count": null,
   "metadata": {},
   "outputs": [],
   "source": [
    "# Resposta do exercício 10 aqui"
   ]
  }
 ],
 "metadata": {
  "kernelspec": {
   "display_name": "my-site-KsrRK7N3-py3.11",
   "language": "python",
   "name": "python3"
  },
  "language_info": {
   "codemirror_mode": {
    "name": "ipython",
    "version": 3
   },
   "file_extension": ".py",
   "mimetype": "text/x-python",
   "name": "python",
   "nbconvert_exporter": "python",
   "pygments_lexer": "ipython3",
   "version": "3.11.3"
  }
 },
 "nbformat": 4,
 "nbformat_minor": 2
}
