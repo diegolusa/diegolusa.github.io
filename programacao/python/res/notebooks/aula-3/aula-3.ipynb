{
 "cells": [
  {
   "cell_type": "markdown",
   "metadata": {},
   "source": [
    "### Exercício 1\n",
    "\n",
    "Elabore um programa que recebe uma string do usuário com, no mínimo, 10 caracteres. A partir deste texto recebido, apresente na saída padrão o que se pede na sequência:\n",
    "\n",
    "1. Contagem de caracteres\n",
    "2. A primeiro e o último caractere\n",
    "3. O caracter na posição 5\n",
    "4. O caractere na posição 5, considerando a string do final para o início\n",
    "5. Apresentar a string com todos os caracteres em maiúsculo\n",
    "6. Apresentar a string com todos os caracteres em minúsculo\n",
    "7. Apresentar a contagem de palavras\n",
    "8. Substitua todos os caracteres `a` por `*`\n",
    "9. Verificar se há números na strings, informando `Sim` ou `Não`\n",
    "10. Inverter a string\n",
    "11. Verificar se a string é um [palíndromo](https://www.normaculta.com.br/palindromo-exemplos-de-palavras-e-frases/)\n"
   ]
  },
  {
   "cell_type": "code",
   "execution_count": null,
   "metadata": {},
   "outputs": [],
   "source": [
    "# Sua resposta aqui"
   ]
  },
  {
   "cell_type": "markdown",
   "metadata": {},
   "source": [
    "### Exercício 2\n",
    "\n",
    "Crie um programa que leia dois números reais. Apresente o valor da divisão do primeiro pelo segundo.\n",
    "Certifique-se de tratar com a exceção  que corresponde a divisão por zero."
   ]
  },
  {
   "cell_type": "code",
   "execution_count": null,
   "metadata": {},
   "outputs": [],
   "source": [
    "# Sua resposta aqui"
   ]
  },
  {
   "cell_type": "markdown",
   "metadata": {},
   "source": [
    "### Exercício 3\n",
    "\n",
    "Desenvolva um programa que leia o `raio` de um círculo (número de ponto flutuante). Apresente como saída a área e o perímetro elemento geométrico. Trate as exceções que podem ocorrer durante a execução."
   ]
  },
  {
   "cell_type": "code",
   "execution_count": null,
   "metadata": {},
   "outputs": [],
   "source": [
    "# Resposta aqui"
   ]
  }
 ],
 "metadata": {
  "kernelspec": {
   "display_name": "Python 3",
   "language": "python",
   "name": "python3"
  },
  "language_info": {
   "codemirror_mode": {
    "name": "ipython",
    "version": 3
   },
   "file_extension": ".py",
   "mimetype": "text/x-python",
   "name": "python",
   "nbconvert_exporter": "python",
   "pygments_lexer": "ipython3",
   "version": "3.11.3"
  }
 },
 "nbformat": 4,
 "nbformat_minor": 2
}
