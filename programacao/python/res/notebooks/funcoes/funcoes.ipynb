{
 "cells": [
  {
   "cell_type": "markdown",
   "metadata": {},
   "source": [
    "### Questão 1 \n",
    "\n",
    "Você está codificando a funcionalidade de fechamento do carinho de compras de um e-commerce. O arquiteto do projeto solicitou a você a criação de uma função chamada `fechar_carinho_compras`, que irá receber como argumento uma lista de produtos, conforme o exemplo abaixo. Sua função deverá retornar o valor total do carrinho a ser pago pelo cliente.\n",
    "\n",
    "```pytyon\n",
    "\n",
    "carinho =[\n",
    "    {\n",
    "        'produto':'teclado',\n",
    "        'qtde':1,\n",
    "        'vlr_unit': 150.56\n",
    "    },\n",
    "    {\n",
    "        'produto':'smartphone',\n",
    "        'qtde':1,\n",
    "        'vlr_unit': 900.00\n",
    "    },\n",
    "    {\n",
    "        'produto':'Pilha AA',\n",
    "        'qtde':45,\n",
    "        'vlr_unit': 3.00\n",
    "    },\n",
    "]\n",
    "\n",
    "```"
   ]
  },
  {
   "cell_type": "code",
   "execution_count": null,
   "metadata": {},
   "outputs": [],
   "source": [
    "# sua resposta aqui"
   ]
  },
  {
   "cell_type": "markdown",
   "metadata": {},
   "source": [
    "### Questão 2\n",
    "\n",
    "Desenvolva uma função para verificar se um determinado valor de texto informado como argumento é um CPF válido. O retorno deve ser booleano (`True` ou `False`). Veja a regra de validação [aqui](https://dicasdeprogramacao.com.br/algoritmo-para-validar-cpf/).\n",
    "\n"
   ]
  },
  {
   "cell_type": "code",
   "execution_count": null,
   "metadata": {},
   "outputs": [],
   "source": [
    "# sua resposta aqui"
   ]
  },
  {
   "cell_type": "markdown",
   "metadata": {},
   "source": [
    "### Questão 3\n",
    "\n",
    "\n",
    "Desenvolva uma função que retorna a classe de um endereço IP V4 informado como parâmetro. Saiba mais sobre classes IP [aqui](https://www.guru99.com/pt/ip-address-classes.html)."
   ]
  },
  {
   "cell_type": "code",
   "execution_count": null,
   "metadata": {},
   "outputs": [],
   "source": [
    "# sua resposta aqui"
   ]
  },
  {
   "cell_type": "markdown",
   "metadata": {},
   "source": [
    "### Questão 4\n",
    "\n",
    "Desenvolva uma função que retorne a projeção de rendimentos dos `n` meses informados como argumento, de um investimento cujo rendimento é determinado pelo juros compostos mensais. O retorno deve ser o total de juros obtidos do mês `1` ao `n`."
   ]
  },
  {
   "cell_type": "code",
   "execution_count": null,
   "metadata": {},
   "outputs": [],
   "source": []
  }
 ],
 "metadata": {
  "kernelspec": {
   "display_name": "Python 3",
   "language": "python",
   "name": "python3"
  },
  "language_info": {
   "name": "python",
   "version": "3.11.3"
  }
 },
 "nbformat": 4,
 "nbformat_minor": 2
}
