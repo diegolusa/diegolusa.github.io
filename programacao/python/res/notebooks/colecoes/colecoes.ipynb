{
 "cells": [
  {
   "cell_type": "markdown",
   "metadata": {},
   "source": [
    "## Exercícios sobre coleções de dados"
   ]
  },
  {
   "cell_type": "markdown",
   "metadata": {},
   "source": [
    "### Exercício 1\n",
    "\n",
    "Leia uma quantidade indeterminada de palavras, até encontrar `STOP` como valor. Armazene o resultado em uma lista. Imprima em tela a lista de palavras em maiúsculo."
   ]
  },
  {
   "cell_type": "code",
   "execution_count": null,
   "metadata": {},
   "outputs": [],
   "source": [
    "#sua resposta aqui"
   ]
  },
  {
   "cell_type": "markdown",
   "metadata": {},
   "source": [
    "### Exercício 2\n",
    "\n",
    "Leia uma quantidade indeterminada de palavras, até encontrar `STOP` como valor. Imprima como saída cada palavra lida e a quantidade de vezes que ela foi informada pelo usuário."
   ]
  },
  {
   "cell_type": "code",
   "execution_count": null,
   "metadata": {},
   "outputs": [],
   "source": [
    "#sua resposta aqui"
   ]
  },
  {
   "cell_type": "markdown",
   "metadata": {},
   "source": [
    "### Exercício 3\n",
    "\n",
    "Leia três conjuntos de números de CPF separados por vírgula. Apresente em tela quais CPFs estão presentes em todas elas."
   ]
  },
  {
   "cell_type": "code",
   "execution_count": null,
   "metadata": {},
   "outputs": [],
   "source": [
    "# sua resposta aqui"
   ]
  },
  {
   "cell_type": "markdown",
   "metadata": {},
   "source": [
    "### Exercício 4\n",
    "\n",
    "Leia o nome de 10 países e os armazene em uma tupla. Mostre em tela em que posição cada país foi armazenado."
   ]
  },
  {
   "cell_type": "code",
   "execution_count": null,
   "metadata": {},
   "outputs": [],
   "source": [
    "# sua resposta aqui"
   ]
  },
  {
   "cell_type": "markdown",
   "metadata": {},
   "source": [
    "### Exercício 5\n",
    "\n",
    "\n",
    "Escreva um programa que recebe uma lista de números de tamanho indeterminado. Você deverá receber todos os valores em uma única entrada, separados por vírgula. Após, escreva em tela a lista de valores, ordenada do menor para o maior, sem valores repetidos.\n"
   ]
  },
  {
   "cell_type": "code",
   "execution_count": null,
   "metadata": {},
   "outputs": [],
   "source": [
    "# sua resposta aqui"
   ]
  },
  {
   "cell_type": "markdown",
   "metadata": {},
   "source": [
    "### Exercício 6\n",
    "\n",
    "\n",
    "Você tem um supermercado e precisa calcular o total de vendas por categoria de produto (higiene, limpeza, bazar, etc.) diariamente. Você recebe uma quantidade indeterminada de valores com 3 informações cada (separadas por ;): `produto;categoria;valor total vendas`. A última entrada sempre será o valor `;;`.\n",
    "\n",
    "Como saída, o programa deverá imprimir o total em vendas de cada categoria, do maior valor para o menor.\n"
   ]
  },
  {
   "cell_type": "code",
   "execution_count": null,
   "metadata": {},
   "outputs": [],
   "source": [
    "# sua resposta aqui"
   ]
  }
 ],
 "metadata": {
  "kernelspec": {
   "display_name": "Python 3",
   "language": "python",
   "name": "python3"
  },
  "language_info": {
   "name": "python",
   "version": "3.11.3"
  }
 },
 "nbformat": 4,
 "nbformat_minor": 2
}
