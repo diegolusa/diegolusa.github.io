{
 "cells": [
  {
   "cell_type": "markdown",
   "metadata": {},
   "source": [
    "### Exercício 1\n",
    "\n",
    "Solicite ao usuário dois números inteiros, aqui chamados de _a_ e _b_. Após lidos, o programa deve calcular o resultado da expressão $a*3 + 4*b$, escrevendo na saída padrão (console) o valor correspondente. Lembre-se das mensagens antes de leituras e saídas para explicar ao usuário o que está sendo feito. Veja o exemplo abaixo:\n",
    "\n",
    "**Mensagens**\n",
    "\n",
    "```\n",
    "Informe o primeiro valor inteiro:\n",
    "Informe o segundo valor inteiro:\n",
    "O resultado da expressão é ...\n",
    "\n",
    "```\n"
   ]
  },
  {
   "cell_type": "code",
   "execution_count": null,
   "metadata": {},
   "outputs": [],
   "source": [
    "a = int(input(\"Informe o primeiro valor inteiro\"))\n",
    "b = int(input(\"Informe o segundo valor inteiro\"))\n",
    "resultado = a*3 + 4*b\n",
    "print(\"O resultado da expressão é \", resultado)"
   ]
  },
  {
   "cell_type": "markdown",
   "metadata": {},
   "source": [
    "### Exercício 2\n",
    "\n",
    "Uma imobiliária vende terrenos retangulares ou quadrados para seus clientes. O valor de venda do terreno é determinado pela área do imóvel e o respectivo valor do metro quadrado. \n",
    "\n",
    "Desenvolva um programa para calcular automaticamente o valor de venda dos terrenos."
   ]
  },
  {
   "cell_type": "code",
   "execution_count": 5,
   "metadata": {},
   "outputs": [
    {
     "name": "stdout",
     "output_type": "stream",
     "text": [
      "O terreno com 6.0 m2 tem valor final de R$ 12.0\n"
     ]
    }
   ],
   "source": [
    "largura =float( input(\"Informe a largura do terreno (m)\"))\n",
    "comprimento =float( input(\"Informe a comprimento do terreno (m)\"))\n",
    "vlr_m2 = float( input(\"Informe o valor do (m2)\")) \n",
    "\n",
    "vlr_terreno = largura * comprimento * vlr_m2\n",
    "\n",
    "#aqui estamos usando interpolação de strings\n",
    "print(f\"O terreno com {largura * comprimento} m2 tem valor final de R$ {vlr_terreno}\")\n"
   ]
  },
  {
   "cell_type": "markdown",
   "metadata": {},
   "source": [
    "### Exercício 3\n",
    "\n",
    "Um motorista precisa de um programa para calcular o custo de suas corridas. Seu automóvel é movido a gasolina e tem consumo médio de 10KM/l. Além do combustível, há um custo de R$ 0.25 por KM rodado para fins de manutenção e seguro. Na cidade onde reside, o custo da gasolina é R$ 5.50 por litro atualmente."
   ]
  },
  {
   "cell_type": "code",
   "execution_count": 9,
   "metadata": {},
   "outputs": [
    {
     "name": "stdout",
     "output_type": "stream",
     "text": [
      "Sua viagem de 100.0 KM terá um custo de R$ 80.0\n"
     ]
    }
   ],
   "source": [
    "distancia = float(input(\"Informe a distância da corrida\"))\n",
    "consumo_medio = 10\n",
    "custo_man_seg= 0.25\n",
    "custo_combus = 5.50\n",
    "gasto_combus = (distancia/consumo_medio)* custo_combus\n",
    "gasto_manut_seguro = distancia * custo_man_seg\n",
    "valor_final = gasto_combus + gasto_manut_seguro\n",
    "print(f\"Sua viagem de {distancia} KM terá um custo de R$ {valor_final}\")\n"
   ]
  },
  {
   "cell_type": "markdown",
   "metadata": {},
   "source": [
    "### Exercício 4\n",
    "*Ei, a quantos segundos equivale 10h e 30 min?* Que tal fazer um programa para responder essa pergunta? Mas atenção: ele deve ser capaz de converter qualquer valor de horas e minutos em segundos. Não esqueça de orientar o usuário por meio de mensagens na tela!\n"
   ]
  },
  {
   "cell_type": "code",
   "execution_count": 10,
   "metadata": {},
   "outputs": [
    {
     "name": "stdout",
     "output_type": "stream",
     "text": [
      "Em 1 horas e 1 minutos, temos 3660 segundos\n"
     ]
    }
   ],
   "source": [
    "horas = int(input(\"Quantas horas?\"))\n",
    "minutos = int(input(\"Quantas minutos?\"))\n",
    "\n",
    "segundos = (minutos * 60) + (horas * 60 * 60)\n",
    "\n",
    "print(f\"Em {horas} horas e {minutos} minutos, temos {segundos} segundos\")\n"
   ]
  },
  {
   "cell_type": "markdown",
   "metadata": {},
   "source": [
    "### Exercício 5\n",
    "\n",
    "No plano de ensino disponibilizado pelo professor está informado que a média final da disciplina é calculada com base em três avaliações. A primeira corresponde a um trabalho, com peso de 20% na média. A segunda avaliação é uma prova e seu peso é de 30%. A prova final preenche os demais 50% da média.\n",
    "\n",
    "Considerando que as notas são estabelecidas no intervalo entre 0 e 10, desenvolva um programa para auxiliar você e seus colegas a calcular média final."
   ]
  },
  {
   "cell_type": "code",
   "execution_count": 1,
   "metadata": {},
   "outputs": [
    {
     "name": "stdout",
     "output_type": "stream",
     "text": [
      "A média final é: 6.3\n"
     ]
    }
   ],
   "source": [
    "trabalho = float(input(\"Digite a nota do trabalho (0 a 10): \"))\n",
    "prova = float(input(\"Digite a nota da prova (0 a 10): \"))\n",
    "prova_final = float(input(\"Digite a nota da prova final (0 a 10): \"))\n",
    "media_final = (trabalho * 0.2) + (prova * 0.3) + (prova_final * 0.5)\n",
    "\n",
    "print(\"A média final é:\", media_final)"
   ]
  },
  {
   "cell_type": "markdown",
   "metadata": {},
   "source": [
    "### Exercício 6\n",
    "\n",
    "Desenvolva um programa que leia a idade de uma pessoa expressa em anos, meses e dias e mostre a quantidade total de dias que corresponde a sua idade.\n"
   ]
  },
  {
   "cell_type": "code",
   "execution_count": 2,
   "metadata": {},
   "outputs": [
    {
     "name": "stdout",
     "output_type": "stream",
     "text": [
      "Sua idade em dias é: 2804\n"
     ]
    }
   ],
   "source": [
    "idade_anos = int(input(\"Digite sua idade em anos: \"))\n",
    "idade_meses = int(input(\"Digite sua idade em meses: \"))\n",
    "idade_dias = int(input(\"Digite sua idade em dias: \"))\n",
    "total_dias = idade_anos * 365 + idade_meses * 30 + idade_dias\n",
    "\n",
    "print(\"Sua idade em dias é:\", total_dias)\n"
   ]
  },
  {
   "cell_type": "markdown",
   "metadata": {},
   "source": [
    "### Exercício 7\n",
    "\n",
    "Desenvolva a idade de uma pessoa expressa em dias e a apresente expressa em anos, meses e dias. Considere anos de 365 dias e meses de 30 dias em seu cálculo."
   ]
  },
  {
   "cell_type": "code",
   "execution_count": 5,
   "metadata": {},
   "outputs": [
    {
     "name": "stdout",
     "output_type": "stream",
     "text": [
      "A idade é  94  anos, 8  meses e 17 dias.\n"
     ]
    }
   ],
   "source": [
    "\n",
    "idade_dias = int(input(\"Digite a idade em dias: \"))\n",
    "\n",
    "anos = idade_dias // 365\n",
    "meses = (idade_dias % 365) // 30\n",
    "dias = (idade_dias % 365) % 30\n",
    "\n",
    "\n",
    "print(f\"A idade é  {anos}  anos, {meses}  meses e {dias} dias.\")\n"
   ]
  },
  {
   "cell_type": "markdown",
   "metadata": {},
   "source": [
    "### Exercício 8\n",
    "\n",
    "Você emprestou dinheiro a um amigo e agora precisa calcular o total de juro a cobrar. Na época do empréstimo, vocês combinaram juros compostos de 10% ao ano. Desde então se passaram 5 anos e está em tempo de receber os R$ 5.000,00. \n",
    "\n",
    "Para facilitar o cálculo deste empréstimo e de outros futuros, desenvolva um programa para calcular o montante devido (considerando juros compostos). "
   ]
  },
  {
   "cell_type": "code",
   "execution_count": 12,
   "metadata": {},
   "outputs": [
    {
     "name": "stdout",
     "output_type": "stream",
     "text": [
      "O valor final será de R$ 8052.55\n"
     ]
    }
   ],
   "source": [
    "capital = float(input(\"Informe o capital\"))\n",
    "tx_juros = float(input(\"Informe a taxa de juros (ao ano)\"))\n",
    "tempo = int(input(\"Informe o tempo (anos)\"))\n",
    "\n",
    "montante = capital * (1+tx_juros/100.0)**tempo\n",
    "\n",
    "print(f\"O valor final será de R$ {round(montante,2)}\")\n",
    "\n"
   ]
  },
  {
   "cell_type": "markdown",
   "metadata": {},
   "source": [
    "### Exercício 9\n",
    "\n",
    "Vamos ter uma eleição em nossa turma para represente da classe. Precisamos de um programa para computar o número de votos \n",
    "brancos, nulos e válidos e então calcular e escrever o percentual que cada um representa em relação ao total \n",
    "de eleitores."
   ]
  },
  {
   "cell_type": "code",
   "execution_count": 14,
   "metadata": {},
   "outputs": [
    {
     "name": "stdout",
     "output_type": "stream",
     "text": [
      "Percentual de votos válidos: 30.0%\n",
      "Percentual de votos brancos: 20.0%\n",
      "Percentual de votos nulos: 10.0%\n"
     ]
    }
   ],
   "source": [
    "nr_eleitores = int(input(\"Número de eleitores\"))\n",
    "nr_vt_validos = int(input(\"Número de votos válidos\"))\n",
    "nr_vt_brancos = int(input(\"Número de votos em branco\"))\n",
    "nr_vt_nulos = int(input(\"Número de votos nulos\"))\n",
    "\n",
    "per_vt_validos = round( (nr_vt_validos *100)/nr_eleitores, 2 )\n",
    "per_vt_brancos = round( (nr_vt_brancos *100)/nr_eleitores, 2 )\n",
    "per_vt_nulos = round( (nr_vt_nulos *100)/nr_eleitores, 2 )\n",
    "\n",
    "print(f\"Percentual de votos válidos: {per_vt_validos}%\")\n",
    "print(f\"Percentual de votos brancos: {per_vt_brancos}%\")\n",
    "print(f\"Percentual de votos nulos: {per_vt_nulos}%\")"
   ]
  },
  {
   "cell_type": "markdown",
   "metadata": {},
   "source": [
    "### Exercício 10\n",
    "\n",
    "\n",
    "O custo de um automóvel para consumidor final corresponde a soma do custo de fabricação acrescido de 45% em impostos, 10% de custos de logística e 5% de comissão no ato da venda. Precisamos de um programa que realize o cálculo do custo final dos veículos de uma concessionária."
   ]
  },
  {
   "cell_type": "code",
   "execution_count": 6,
   "metadata": {},
   "outputs": [
    {
     "name": "stdout",
     "output_type": "stream",
     "text": [
      "O custo final do veículo é: 40000.0\n"
     ]
    }
   ],
   "source": [
    "custo_fabricacao = float(input(\"Digite o custo de fabricação do veículo: \"))\n",
    "impostos = custo_fabricacao * 0.45\n",
    "custos_logistica = custo_fabricacao * 0.10\n",
    "comissao = custo_fabricacao * 0.05\n",
    "custo_final = custo_fabricacao + impostos + custos_logistica + comissao\n",
    "print(\"O custo final do veículo é R$ \", round(custo_final,2))\n"
   ]
  }
 ],
 "metadata": {
  "kernelspec": {
   "display_name": "my-site-KsrRK7N3-py3.11",
   "language": "python",
   "name": "python3"
  },
  "language_info": {
   "codemirror_mode": {
    "name": "ipython",
    "version": 3
   },
   "file_extension": ".py",
   "mimetype": "text/x-python",
   "name": "python",
   "nbconvert_exporter": "python",
   "pygments_lexer": "ipython3",
   "version": "3.11.3"
  }
 },
 "nbformat": 4,
 "nbformat_minor": 2
}
