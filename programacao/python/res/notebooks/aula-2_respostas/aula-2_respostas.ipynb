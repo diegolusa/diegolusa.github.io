{
 "cells": [
  {
   "cell_type": "markdown",
   "metadata": {},
   "source": [
    "### Exercício 1\n",
    "\n",
    "Desenvolva um programa para ler três valores numéricos inteiros (`x`, `y` e `z`), que serão informados pelo usuário. Destes valores recebidos, identificar o maior, o menor e o intermediário, apresentando-os em tela."
   ]
  },
  {
   "cell_type": "code",
   "execution_count": 3,
   "metadata": {},
   "outputs": [
    {
     "name": "stdout",
     "output_type": "stream",
     "text": [
      "3 8 8\n"
     ]
    }
   ],
   "source": [
    "v1 = int(input(\"Informe o primeiro valor: \"))\n",
    "v2 = int(input(\"Informe o segundo valor: \"))\n",
    "v3 = int(input(\"Informe o terceiro valor: \"))\n",
    "\n",
    "maior = v1\n",
    "if v2 > maior:\n",
    "    maior = v2\n",
    "if v3 > maior:\n",
    "    maior = v3\n",
    "\n",
    "menor = v1\n",
    "if v2 < menor:\n",
    "    menor = v2\n",
    "if v3 < menor:\n",
    "    menor = v3\n",
    "\n",
    "print(menor, (v1+v2+v3) - (maior+menor), maior)\n",
    "    "
   ]
  },
  {
   "cell_type": "markdown",
   "metadata": {},
   "source": [
    "### Exercício 2\n",
    "\n",
    "Solicite ao usuário um valor inteiro. Avalie a paridade do valor informado, escrevendo em tela **PAR** ou **ÍMPAR**. "
   ]
  },
  {
   "cell_type": "code",
   "execution_count": 5,
   "metadata": {},
   "outputs": [
    {
     "name": "stdout",
     "output_type": "stream",
     "text": [
      "4 PAR\n"
     ]
    }
   ],
   "source": [
    "v1 = int(input(\"Informe um valor\"))\n",
    "\n",
    "print(v1, \"PAR\" if v1%2==0 else \"ÍMPAR\")"
   ]
  },
  {
   "cell_type": "markdown",
   "metadata": {},
   "source": [
    "### Exercício 3\n",
    "\n",
    "A Universidade de Passo Fundo passará a utilizar um sistema de avaliação baseado em conceitos. Contudo, seus professores estão acostumados a mensurar o aprendizado dos estudantes em uma escala de 0 a 100 pontos. Para tornar o processo de transição mais simples, a Pró-reitoria de Ensino encaminhou uma tabela de conversão de notas para conceitos. Assim, a média ponderada das avaliações semestrais de cada disciplina deverão ser convertidas pelos professores com base nesta tabela de referência. Cabe ressaltar que todo professor é obrigado a realizar `3` avaliações a cada semestre, com pesos `20`, `30` e `50`, respectivamente.\n",
    "\n",
    "\n",
    "<table  border=\"1\" align=\"center\">\n",
    "  <tbody>\n",
    "    <tr>\n",
    "      <td style=\"text-align: center;\"><strong>Intervalo de notas </strong></td>\n",
    "      <td style=\"text-align: center;\"><strong>Conceito </strong></td>\n",
    "      <td style=\"text-align: center;\"><strong>Resultado </strong></td>\n",
    "    </tr>\n",
    "    <tr>\n",
    "      <td> 0 - 20</td>\n",
    "      <td>E </td>\n",
    "      <td>REPROVADO</td>\n",
    "    </tr>\n",
    "    <tr>\n",
    "      <td>\n",
    "        <div>21 - 40</div>\n",
    "      </td>\n",
    "      <td>D</td>\n",
    "      <td>REPROVADO</td>\n",
    "    </tr>\n",
    "    <tr>\n",
    "      <td>\n",
    "        <div>\n",
    "          <div>41 - 60</div>\n",
    "        </div>\n",
    "      </td>\n",
    "      <td>C</td>\n",
    "      <td>EXAME</td>\n",
    "    </tr>\n",
    "    <tr>\n",
    "      <td>\n",
    "        <div>\n",
    "          <div>\n",
    "            <div>61 - 80</div>\n",
    "          </div>\n",
    "        </div>\n",
    "      </td>\n",
    "      <td>B</td>\n",
    "      <td>APROVADO</td>\n",
    "    </tr>\n",
    "    <tr>\n",
    "      <td>\n",
    "        <div>\n",
    "          <div>\n",
    "            <div>\n",
    "              <div>81 - 100</div>\n",
    "            </div>\n",
    "          </div>\n",
    "        </div>\n",
    "      </td>\n",
    "      <td>A</td>\n",
    "      <td>APROVADO</td>\n",
    "    </tr>\n",
    "  </tbody>\n",
    "</table>\n",
    "\n",
    "Com base nisso, pede-se que seja criado um programa que leia 3 notas (valores numéricos entre 0 e 100, obrigatoriamente). Com os valores lidos, apresente para o usuário a **média final** obtida, **conceito correspondente** e o **respectivo resultado**. Se o usuário informar para qualquer uma das notas valores fora do intervalo permitido $0 \\leq nota \\leq 100$, o programa deve gerar como saída o texto **NOTA INVÁLIDA**.\n",
    "\n",
    " "
   ]
  },
  {
   "cell_type": "code",
   "execution_count": 8,
   "metadata": {},
   "outputs": [
    {
     "name": "stdout",
     "output_type": "stream",
     "text": [
      "NOTA INVÁLIDA\n"
     ]
    }
   ],
   "source": [
    "\n",
    "\n",
    "n1 = int(input(\"Informe a nota 1\"))\n",
    "n2 = int(input(\"Informe a nota 2\"))\n",
    "n3 = int(input(\"Informe a nota 3\"))\n",
    "\n",
    "if n1 < 0 or n1 > 100  or n2 < 0 or n2 > 100 or n3 < 0 or n3 > 100:\n",
    "    print(\"NOTA INVÁLIDA\")\n",
    "else:\n",
    "    media_final = n1 * 0.2 + n2 * 0.3 + n3 * 0.5\n",
    "    conceito_resultado = \"\"\n",
    "    if 0.0 <= media_final and media_final< 21.0:\n",
    "        conceito_resultado = \"E Reprovado\"\n",
    "    elif 21.0 <= media_final and media_final < 41.0:\n",
    "        conceito_resultado = \"D Reprovado\"\n",
    "    elif 41.0 <= media_final and media_final < 61.0:\n",
    "        conceito_resultado = \"C Exame\"\n",
    "    elif 61.0 <= media_final and media_final < 81.0:\n",
    "        conceito_resultado = \"B Aprovado\"\n",
    "    else:\n",
    "        conceito_resultado = \"A Aprovado\"\n",
    "\n",
    "    print(\"{:.2f} {}\".format(media_final, conceito_resultado))\n"
   ]
  },
  {
   "cell_type": "markdown",
   "metadata": {},
   "source": [
    "### Exercício 4\n",
    "\n",
    "Em Física, podemos medir a temperatura de corpos utilizando diferentes escalas termométricas. No Brasil, por exemplo, é comum utilizarmos Celsius (ºC), enquanto que nos Estados Unidos utiliza-se Fahrenheit (ºF). No meio científico, contudo, utiliza-se a Escala Kelvin $K$.\n",
    "\n",
    "Embora o cálculo de conversão entre escalas não seja complexo, ter em mãos uma forma rápida de fazê-lo é bem-vinda. E nada melhor que um programa em Python para resolver todo e qualquer problema, não é?!\n",
    "\n",
    "\n",
    "Nosso programa deve receber duas informações: escala e temperatura. Para escala, aceitar apenas $C$, $F$ ou $K$, representando a escala de origem e para temperatura, apenas números (com ou sem casas decimais). Como saída, o programa deve apresentar a temperatura convertida para as demais escalas.\n",
    "\n",
    "Vamos às fórmulas:\n",
    "\n",
    "- Kelvin para Celsius: $T_K - 273,15$\n",
    "- Fahrenheit para Celsius: $\\frac{T_F -32}{1,8}$\n",
    "- Celsius para Kelvin:  $T_C + 273,15$\n",
    "- Celsius para Fahrenheit: $T_C*1,8 + 32$"
   ]
  },
  {
   "cell_type": "code",
   "execution_count": 10,
   "metadata": {},
   "outputs": [
    {
     "name": "stdout",
     "output_type": "stream",
     "text": [
      "Temperatura em Celsius: 14.444444444444445\n",
      "Temperatura em Kelvin: 287.59444444444443\n"
     ]
    }
   ],
   "source": [
    "escala = input(\"Digite a escala de origem (C, F ou K): \")\n",
    "t = float(input(\"Digite a temperatura: \"))\n",
    "\n",
    "match escala.upper():\n",
    "    case 'C':\n",
    "        temp_kelvin = t + 273.15\n",
    "        temp_fahrenheit = t * 1.8 + 32\n",
    "        print(\"Kelvin:\", temp_kelvin)\n",
    "        print(\"Fahrenheit:\", temp_fahrenheit)\n",
    "    case 'F':\n",
    "        temp_celsius = (t - 32) / 1.8\n",
    "        temp_kelvin = temp_celsius + 273.15\n",
    "        print(\"Celsius:\", temp_celsius)\n",
    "        print(\"Kelvin:\", temp_kelvin)\n",
    "    case 'K':\n",
    "        temp_celsius = t - 273.15\n",
    "        temp_fahrenheit = temp_celsius * 1.8 + 32\n",
    "        print(\"Celsius:\", temp_celsius)\n",
    "        print(\"Fahrenheit:\", temp_fahrenheit)\n"
   ]
  },
  {
   "cell_type": "markdown",
   "metadata": {},
   "source": [
    "### Exercício 5\n",
    "\n",
    "Desenvolva um programa que solicite dois valores inteiros ao usuário. Obrigatoriamente, o primeiro valor deve ser menor que o segundo e ambos devem ser positivos, maiores que zero e pares. Com os dois valores lidos, o programa deve apresentar a imagem da função abaixo, considerando que o valor do domínio compreende a média aritmética dos valores recebidos.\n",
    "\n",
    "$f(x) = \\dfrac{x}{3} + x^{3} - \\dfrac{(x + x*4)}{2}$\n",
    "\n",
    " \n",
    "#### Validações\n",
    "\n",
    "- Quando o primeiro valor for maior que o segundo, a saída deve ser **PRIMEIRO VALOR É MAIOR QUE O SEGUNDO - INVÁLIDO**\n",
    "- Quando um dos valores (ou ambos) for ímpar,  a saída deve ser **ÍMPAR - INVÁLIDO**\n",
    "- Quando um dos valores (ou ambos) for menor ou igual a que zero, informar **NEGATIVO OU ZERO - INVÁLIDO**\n",
    "- A sequência de validações no código deve respeitar a ordem acima."
   ]
  },
  {
   "cell_type": "code",
   "execution_count": null,
   "metadata": {},
   "outputs": [],
   "source": [
    "\n",
    "valor1 = int(input(\"Digite o primeiro valor inteiro e par: \"))\n",
    "valor2 = int(input(\"Digite o segundo valor inteiro e par, maior que o primeiro: \"))\n",
    "\n",
    "\n",
    "if valor1 >= valor2:\n",
    "    print(\"PRIMEIRO VALOR É MAIOR QUE O SEGUNDO - INVÁLIDO\")\n",
    "\n",
    "elif valor1 % 2 != 0 or valor2 % 2 != 0:\n",
    "    print(\"ÍMPAR - INVÁLIDO\")\n",
    "\n",
    "elif valor1 <= 0 or valor2 <= 0:\n",
    "    print(\"NEGATIVO OU ZERO - INVÁLIDO\")\n",
    "else:\n",
    "    dominio = (valor1 + valor2) / 2 \n",
    "    resultado = (dominio / 3) + dominio ** 3 - ((dominio + dominio * 4) / 2)\n",
    "    print(\"RESULTADO: \", resultado)\n"
   ]
  },
  {
   "cell_type": "markdown",
   "metadata": {},
   "source": [
    "### Exercício 6\n",
    "\n",
    "O calendário gregoriano introduziu o conceito de ano bissexto como uma forma de corrigir, a cada 4 anos, a diferença  de tempo entre o ano sideral (tempo de translação da Terra em torno do Sol) e o tempo de um ano do calendário. Em anos bissextos, o calendário é acrescido de 1 dia (24 horas).\n",
    "\n",
    "Podemos determinar se um ano é bissexto através de cálculos de resto de divisão inteira. Todo ano bissexto deve atender às seguintes condições:\n",
    "\n",
    "- Se 400 for um divisor do ano, então é bissexto;\n",
    "- Ou, se o ano for divisível por 4, mas não por 100, ele é considerado bissexto.\n",
    "\n",
    "Sabendo os critérios para identificar anos bissextos, iremos agora desenvolver um programa que fará este trabalho para nós. Basta que este programa solicite ao usuário o ano e, como saída, informar uma das mensagens abaixo, a depender do resultado.\n",
    "\n",
    "- **BISSEXTO**\n",
    "- **NÃO É BISSEXTO**\n",
    "- **ANO INVÁLIDO** (caso seja informado valor igual ou inferior a zero)"
   ]
  },
  {
   "cell_type": "code",
   "execution_count": 11,
   "metadata": {},
   "outputs": [
    {
     "name": "stdout",
     "output_type": "stream",
     "text": [
      "NÃO É BISSEXTO\n"
     ]
    }
   ],
   "source": [
    "\n",
    "ano = int(input(\"ANO: \"))\n",
    "\n",
    "if ano <= 0:\n",
    "    print(\"ANO INVÁLIDO\")\n",
    "else:\n",
    "    if (ano % 400 == 0) or (ano % 4 == 0 and ano % 100 != 0):\n",
    "        print(\"BISSEXTO\")\n",
    "    else:\n",
    "        print(\"NÃO É BISSEXTO\")"
   ]
  },
  {
   "cell_type": "markdown",
   "metadata": {},
   "source": [
    "### Exercício 7\n",
    "\n",
    "Leia a idade de um nadador e escreva em tela a respectiva categoria em que se enquadra. Os intervalos de idade estão descritos na tabela que segue.\n",
    "\n",
    "<table border=\"1\">\n",
    "<tbody id=\"yui_3_17_2_1_1709686226278_76\">\n",
    "<tr>\n",
    "<td><span style=\"font-size: medium;\">&nbsp;infantil A</span></td>\n",
    "<td><span style=\"font-size: medium;\">&nbsp;5 - 7 anos&nbsp;</span></td>\n",
    "</tr>\n",
    "<tr>\n",
    "<td><span style=\"font-size: medium;\">&nbsp;infantil B&nbsp;</span></td>\n",
    "<td><span style=\"font-size: medium;\">&nbsp;8-10 anos</span></td>\n",
    "</tr>\n",
    "<tr>\n",
    "<td><span style=\"font-size: medium;\">&nbsp;juvenil A&nbsp;</span></td>\n",
    "<td><span style=\"font-size: medium;\">&nbsp;11-13 anos&nbsp;</span></td>\n",
    "</tr>\n",
    "<tr>\n",
    "<td><span style=\"font-size: medium;\">&nbsp;juvenil B&nbsp;</span></td>\n",
    "<td><span style=\"font-size: medium;\">&nbsp;14-17 anos&nbsp;</span></td>\n",
    "</tr>\n",
    "<tr id=\"yui_3_17_2_1_1709686226278_81\">\n",
    "<td><span style=\"font-size: medium;\">&nbsp;adulto</span></td>\n",
    "<td id=\"yui_3_17_2_1_1709686226278_80\"><span style=\"font-size: medium;\" id=\"yui_3_17_2_1_1709686226278_79\">&nbsp;maiores de 18 anos&nbsp;</span></td>\n",
    "</tr>\n",
    "</tbody>\n",
    "</table>"
   ]
  },
  {
   "cell_type": "code",
   "execution_count": 12,
   "metadata": {},
   "outputs": [
    {
     "name": "stdout",
     "output_type": "stream",
     "text": [
      "Infantil B\n"
     ]
    }
   ],
   "source": [
    "\n",
    "idade = int(input(\"Digite a idade do nadador: \"))\n",
    "\n",
    "\n",
    "if 5 <= idade and idade <= 7:\n",
    "    print(\"Infantil A\")\n",
    "elif 8 <= idade and idade <= 10:\n",
    "    print(\"Infantil B\")\n",
    "elif 11 <= idade and idade <= 13:\n",
    "    print(\"Juvenil A\")\n",
    "elif 14 <= idade and idade <= 17:\n",
    "    print(\"Juvenil B\")\n",
    "elif idade >= 18:\n",
    "    print(\"Adulto\")\n",
    "else:\n",
    "    print(\"Idade inválida\")\n"
   ]
  }
 ],
 "metadata": {
  "kernelspec": {
   "display_name": "my-site-KsrRK7N3-py3.11",
   "language": "python",
   "name": "python3"
  },
  "language_info": {
   "codemirror_mode": {
    "name": "ipython",
    "version": 3
   },
   "file_extension": ".py",
   "mimetype": "text/x-python",
   "name": "python",
   "nbconvert_exporter": "python",
   "pygments_lexer": "ipython3",
   "version": "3.11.3"
  }
 },
 "nbformat": 4,
 "nbformat_minor": 2
}
