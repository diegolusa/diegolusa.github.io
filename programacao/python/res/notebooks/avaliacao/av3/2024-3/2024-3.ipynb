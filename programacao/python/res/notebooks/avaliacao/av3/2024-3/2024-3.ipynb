{
 "cells": [
  {
   "cell_type": "markdown",
   "metadata": {},
   "source": [
    "### Instruções\n",
    "\n",
    "- Esta avaliação tem peso **4** e irá substituir a menor das notas das avaliações anteriores\n",
    "- Faça os exercícios com atenção. Em caso de dúvidas, peça ajuda ao professor\n",
    "- NÃO acesse ou faça uso de qualquer recurso de consulta não permitido\n",
    "- NÃO utilize qualquer gerador de código\n",
    "- A entrega será no Moodle, em uma atividade específica.\n",
    "- De tempos em tempos salve as alterações deste documento para não perder seu trabalho em caso de queda de energia ou algo semelhantes."
   ]
  },
  {
   "cell_type": "markdown",
   "metadata": {},
   "source": [
    "### Exercício 1 [2.5 pontos]\n",
    "\n",
    "\n",
    "\n",
    "Vamos imaginar que o IPTU de um município qualquer tenha seu valor determinado pelas seguintes variáveis:\n",
    "\n",
    "- Área do terreno em metros quadrados (A)\n",
    "- Valor por metro quadrado de referência (V)\n",
    "- Fator de valorização por benfeitorias (F)\n",
    "\n",
    "Para um imóvel com área de $50.56 m^2$, valor de referência R$ 23.00 e 1.8% de valorização, teríamos:\n",
    "\n",
    "$$\n",
    "A = 50.56 \\\\\n",
    "V = 23.00\\\\\n",
    "F = 1.8\\%\\\\\n",
    "\n",
    "IPTU = (50.56 * 23.00) +  (50.56 * 23.00)*1.8\\%\\\\\n",
    "IPTU = 1183,81\\\\\n",
    "$$\n",
    "\n",
    "Sua tarefa é desenvolver uma função que, informados os valores de parâmetro, retorne o valor a ser pago de IPTU do imóvel."
   ]
  },
  {
   "cell_type": "code",
   "execution_count": null,
   "metadata": {},
   "outputs": [],
   "source": [
    "# Sua resposta aqui"
   ]
  },
  {
   "cell_type": "markdown",
   "metadata": {},
   "source": [
    "### Exercício 2 [2.5 pontos]\n",
    "\n",
    "Você está recebendo a especificação técnica da função *substituir_digitos* para codificar. Trata-se de uma função apta a receber dois parâmetros:\n",
    "\n",
    "- Uma mensagem (string)\n",
    "- Um dicionário cujas chaves são dígitos de 0 a 9 (caractere) e os respectivos valores correspondem aos caracteres de substituição.\n",
    "\n",
    "Veja o exemplo:\n",
    "\n",
    "```python\n",
    "\n",
    "mensagem = 'olá, vamos contar de 1 a 10\"\n",
    "substituicao = {\n",
    "    '0': '-', \n",
    "    '1': '*',\n",
    "    '2': '&',\n",
    "    '3': '%',\n",
    "    '4': '$',\n",
    "    '5': '#',\n",
    "    '6': '@',\n",
    "    '7': '!',\n",
    "    '8': '}',\n",
    "    '9': '{',\n",
    "}\n",
    "print(substituir_digitos(mensagem, substituicao))\n",
    "#olá, vamos contar de * a *-\n",
    "```"
   ]
  },
  {
   "cell_type": "code",
   "execution_count": null,
   "metadata": {},
   "outputs": [],
   "source": [
    "# Sua resposta aqui"
   ]
  },
  {
   "cell_type": "markdown",
   "metadata": {},
   "source": [
    "### Exercício 3 [2.5 pontos]\n",
    "\n",
    "Na próxima semana, sua turma irá escolher o representante discente e lhe foi solicitado que desenvolva uma aplicação para contabilizar os votos. A aplicação deverá utilizar um dicionário onde a chave é o nome do candidato, e o valor associado é o número de votos recebidos. A aplicação deverá possuir as seguintes funcionalidades:\n",
    "\n",
    "- No código, defina uma lista com o nome dos candidatos (quantidades e nomes a seu critério)\n",
    "- Modo `Urna Eletrônica`, que exibe a lista de candidatos e permite escolher em quem votar, até que uma condição de parada seja informada (você define qual será);\n",
    "- Modo `Apuração`, onde é exibido o nome do vencedor, a quantidade e percentual de votos recebidos, os nomes e totais dos demais candidatos, o número total de votos."
   ]
  },
  {
   "cell_type": "code",
   "execution_count": null,
   "metadata": {},
   "outputs": [],
   "source": [
    "# Sua resposta aqui"
   ]
  },
  {
   "cell_type": "markdown",
   "metadata": {},
   "source": [
    "### Exercício 4 [2.5 pontos]\n",
    "\n",
    "Desenvolva um programa que solicite um número inteiro ao usuário. Este número irá representar a quantidade de novos números a serem solicitados na sequência. Após a coleta de todos os demais valores, apresentar em tela o número com a maior quantidade de repetições e a respectiva quantidade de vezes que ele foi informado.\n",
    "\n",
    "Observe o exemplo a seguir. Nele o usuário informa **5**, indicando que deseja informar 5 valores na sequência. Os valores informados foram *8, 21, 8, 12 e 5*. Como o número 8 é o que mais teve ocorrências (2), a saída foi *8 - 2X*. \n",
    "\n",
    "| **ENTRADA**   | **SAÍDA** |\n",
    "|---------------|-----------|\n",
    "| 5 8 21 8 12 5 | 8 - 2X    |\n",
    "\n",
    "**Atenção**: Caso dois ou mais valores tenham a mesma quantidade de ocorrências, informar **EMPATE** na saída.\n"
   ]
  },
  {
   "cell_type": "code",
   "execution_count": null,
   "metadata": {},
   "outputs": [],
   "source": [
    "#Sua resposta aqui"
   ]
  }
 ],
 "metadata": {
  "language_info": {
   "name": "python"
  }
 },
 "nbformat": 4,
 "nbformat_minor": 2
}
