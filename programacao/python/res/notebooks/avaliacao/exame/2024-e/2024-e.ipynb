{
 "cells": [
  {
   "cell_type": "markdown",
   "metadata": {},
   "source": [
    "### Instruções\n",
    "\n",
    "- Esta é a avaliação de exame da disciplina.\n",
    "- Faça os exercícios com atenção. Em caso de dúvidas, peça ajuda ao professor\n",
    "- NÃO acesse ou faça uso de qualquer recurso de consulta não permitido\n",
    "- NÃO utilize qualquer gerador de código\n",
    "- A entrega será no Moodle, em uma atividade específica.\n",
    "- De tempos em tempos salve as alterações deste documento para não perder seu trabalho em caso de queda de energia ou algo semelhantes.\n",
    "\n"
   ]
  },
  {
   "cell_type": "markdown",
   "metadata": {},
   "source": [
    "### Exercício 1 [2.5 pontos]\n",
    "\n",
    "Assim como ocorre com humanos, o excesso de peso em felinos implica em problemas de saúde. Uma das formas de classificar em que situação o animal encontra-se com relação ao seu peso é o IMC (Índice de Massa Corpórea).\n",
    "\n",
    "O cálculo é identifico ao utilizado para humanos:\n",
    "\n",
    "$\\text{IMC} = \\frac{\\text{Peso em kg}}{(\\frac{\\text{Altura em cm}}{100})^2}$\n",
    "\n",
    "Suponha que você irá receber um arquivo de texto, formato CSV, em que cada linha conterá três dados sobre um felino: nome, peso e altura. Tais dados estarão separados por `;`. Veja um exemplo:\n",
    "\n",
    "```text\n",
    "miau;6.67;45\n",
    "mimi;5,5;40\n",
    "```\n",
    "\n",
    "Você deverá desenvolver um programa para ler este arquivo, processar seu conteúdo e, como saída, apresentar\n",
    "quais animais estão abaixo do peso (IMC inferior a 18), peso ideal (IMC entre 18 e 23) e acima do peso (IMC acima de 23)."
   ]
  },
  {
   "cell_type": "code",
   "execution_count": null,
   "metadata": {},
   "outputs": [],
   "source": [
    "# Sua resposta aqui"
   ]
  },
  {
   "cell_type": "markdown",
   "metadata": {},
   "source": [
    "### Exercício 2 [2.5 pontos]\n",
    "\n",
    "Em Física, podemos medir a temperatura de corpos utilizando diferentes escalas termométricas. No Brasil, por exemplo, é comum utilizarmos Celsius (ºC), enquanto que nos Estados Unidos utiliza-se Fahrenheit (ºF). No meio científico, contudo, utiliza-se a Escala Kelvin $K$.\n",
    "\n",
    "Embora o cálculo de conversão entre escalas não seja complexo, ter em mãos uma forma rápida de fazê-lo é bem-vinda. E nada melhor que uma função em Python para resolver todo e qualquer problema, não é?!\n",
    "\n",
    "\n",
    "Nossa função deve receber três informações como parâmetro: escala de origem, escala de destino e temperatura. Para escalas de origem e destino, os valores aceitos são $C$, $F$ ou $K$ e para temperatura, apenas números (com ou sem casas decimais). A função deve retornar a temperatura convertida para a escala termométrica de destino.\n",
    "\n",
    "Vamos às fórmulas:\n",
    "\n",
    "- Kelvin para Celsius: $T_K - 273,15$\n",
    "- Fahrenheit para Celsius: $\\frac{T_F -32}{1,8}$\n",
    "- Celsius para Kelvin:  $T_C + 273,15$\n",
    "- Celsius para Fahrenheit: $T_C*1,8 + 32$"
   ]
  },
  {
   "cell_type": "code",
   "execution_count": null,
   "metadata": {},
   "outputs": [],
   "source": [
    "# Sua resposta aqui"
   ]
  },
  {
   "cell_type": "markdown",
   "metadata": {},
   "source": [
    "### Exercício 3 [2.5 pontos]\n",
    "\n",
    "Escreva um programa que recebe uma lista de números de tamanho indeterminado. Você deverá receber todos os valores em uma única entrada, separados por vírgula. Após, escreva em tela a lista de valores, ordenada do menor para o maior, sem valores repetidos."
   ]
  },
  {
   "cell_type": "code",
   "execution_count": null,
   "metadata": {},
   "outputs": [],
   "source": [
    "# Sua resposta aqui"
   ]
  },
  {
   "cell_type": "markdown",
   "metadata": {},
   "source": [
    "### Exercício 4 [2.5 pontos]\n",
    "\n",
    "\n",
    "Por algum evento histórico irrelevante, o Rio Grande do Sul tornou-se um país. Uma das primeiras determinações do novo presidente foi criar a nova moeda nacional, o *Pila (P\\$)*. As novas cédulas seriam de P\\$ 2.00, P\\$ 5.00, P\\$ 15.00, P\\$ 25.00 , P\\$ 50.00 e P\\$ 75.00. Já os quebrados (em substituição aos centavos) ainda não haviam sido definidos. Para auxiliar na conversão entre R\\$ e P\\$, o presidente pediu a você para criar um programa em Python (olha a responsabilidade!). Este programa deve receber o valor em reais (sem centavos) e devolver quais cédulas de *Pila* e suas respectivas quantidades serão necessárias. Caso haja resto, informá-lo."
   ]
  },
  {
   "cell_type": "code",
   "execution_count": null,
   "metadata": {},
   "outputs": [],
   "source": [
    "# Sua resposta aqui"
   ]
  }
 ],
 "metadata": {
  "language_info": {
   "name": "python"
  }
 },
 "nbformat": 4,
 "nbformat_minor": 2
}
