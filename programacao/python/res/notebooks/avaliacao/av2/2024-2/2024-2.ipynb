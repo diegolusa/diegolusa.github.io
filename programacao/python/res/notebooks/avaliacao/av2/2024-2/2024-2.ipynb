{
 "cells": [
  {
   "cell_type": "markdown",
   "metadata": {},
   "source": [
    "### Instruções\n",
    "\n",
    "- Esta avaliação tem peso **4** na nota final da disciplina\n",
    "- Faça os exercícios com atenção. Em caso de dúvidas, peça ajuda ao professor\n",
    "- NÃO acesse ou faça uso de qualquer recurso de consulta não permitido\n",
    "- NÃO utilize qualquer gerador de código\n",
    "- A entrega será no Moodle, em uma atividade específica.\n",
    "- De tempos em tempos salve as alterações deste documento para não perder seu trabalho em caso de queda de energia ou algo semelhantes."
   ]
  },
  {
   "cell_type": "markdown",
   "metadata": {},
   "source": [
    "### Exercício 1 [2.5 pontos]\n",
    "\n",
    "Desenvolva um programa que solicite um número inteiro ao usuário. Este número irá representar a quantidade de novos números a serem solicitados na sequência. Após a coleta de todos os demais valores, apresentar em tela o número com a maior quantidade de repetições e a respectiva quantidade de vezes que ele foi informado.\n",
    "\n",
    "Observe o exemplo a seguir. Nele o usuário informa **5**, indicando que deseja informar 5 valores na sequência. Os valores informados foram *8, 21, 8, 12 e 5*. Como o número 8 é o que mais teve ocorrências (2), a saída foi *8 - 2X*. \n",
    "\n",
    "| **ENTRADA**   | **SAÍDA** |\n",
    "|---------------|-----------|\n",
    "| 5 8 21 8 12 5 | 8 - 2X    |\n",
    "\n",
    "**Atenção**: Caso dois ou mais valores tenham a mesma quantidade de ocorrências, informar **EMPATE** na saída."
   ]
  },
  {
   "cell_type": "code",
   "execution_count": null,
   "metadata": {},
   "outputs": [],
   "source": [
    "#sua resposta aqui\n"
   ]
  },
  {
   "cell_type": "markdown",
   "metadata": {},
   "source": [
    "### Exercício 2 [2.5 pontos]\n",
    "\n",
    "A capacidade máxima do elevador do edifício **UPF Tower** é **856 kg**. Elabore um programa que peça o peso de cada nova pessoa que adentra o elevador, enquanto o limite de peso não for excedido. Ao final, apresentar em tela quantas pessoas couberam no elevador e o respectivo peso total obtido."
   ]
  },
  {
   "cell_type": "code",
   "execution_count": null,
   "metadata": {},
   "outputs": [],
   "source": [
    "# Sua resposta aqui"
   ]
  },
  {
   "cell_type": "markdown",
   "metadata": {},
   "source": [
    "### Exercício 3 [2.5 pontos]\n",
    "\n",
    "\n",
    "Você recebeu a tarefa de desenvolver uma função responsável por testar a força das senhas de uma plataforma web. Conforme orientações da equipe de segurança, os requisitos mínimos para que a senha seja resiliente a ataques de força bruta são:\n",
    "\n",
    "- 8 caracteres\n",
    "- Conter letras\n",
    "- Conter números\n",
    "- Presença de ao menos um dos símbolos *@#$&*\n",
    "\n",
    "\n",
    "O retorno da função deverá ser um valor booleano em que verdadeiro indica que a senha atende os requisitos mínimos de segurança e falso, em caso oposto."
   ]
  },
  {
   "cell_type": "code",
   "execution_count": null,
   "metadata": {},
   "outputs": [],
   "source": [
    "# Sua resposta aqui"
   ]
  },
  {
   "cell_type": "markdown",
   "metadata": {},
   "source": [
    "### Exercício 4 [2.5 pontos]\n",
    "\n",
    "Em estatística, **moda** é uma medida que define o valor que mais se repete em uma amostra (conjunto de valores). Por exemplo, no conjunto de dados *5, 6, 8, 5, 9* temos *5* como sendo a moda.\n",
    "\t\n",
    "Sabendo disso, elabore uma função que, a partir de uma lista de valores inteiros informado por parâmetro, retorna a respectiva moda."
   ]
  },
  {
   "cell_type": "code",
   "execution_count": null,
   "metadata": {},
   "outputs": [],
   "source": [
    "#Sua reposta aqui"
   ]
  }
 ],
 "metadata": {
  "language_info": {
   "name": "python"
  }
 },
 "nbformat": 4,
 "nbformat_minor": 2
}
