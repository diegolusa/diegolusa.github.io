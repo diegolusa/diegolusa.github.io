{
 "cells": [
  {
   "cell_type": "markdown",
   "metadata": {},
   "source": [
    "### Instruções\n",
    "\n",
    "- Esta avaliação tem peso **4** na média final da disciplina\n",
    "- Faça os exercícios com atenção. Em caso de dúvidas, peça ajuda ao professor\n",
    "- NÃO é permitido acesso à Internet ou meios de comunicação durante a realização da avaliação\n",
    "- Você pode utilizar qualquer material de consulta, físico ou digital, disponível, desde que seja off-line\n",
    "- A entrega será no Moodle, em uma atividade específica.\n",
    "- De tempos em tempos salve as alterações deste documento para não perder seu trabalho em caso de queda de energia ou algo semelhantes."
   ]
  },
  {
   "cell_type": "markdown",
   "metadata": {},
   "source": [
    "### Exercício 1 [2.5 pontos]\n",
    "\n",
    "O Instituto Bem Viver está realizando uma pesquisa para identificar a média aritmética de peso dos adultos com sobrepeso. Segundo a Organização Mundial da Saúde (OMS), encontra-se em sobrepeso todo indivíduo cujo Índice de Massa Corpórea (IMC) é **maior ou igual a 25 e menor que 30**. O cálculo do IMC ocorre em função do peso (Kg) e da altura (em metros) do indivíduo por meio da fórmula a seguir: \n",
    "\n",
    "$ IMC = \\frac{peso}{altura^2} $\n",
    "\n",
    "Para auxiliar os pesquisadores, você deve desenvolver um programa que leia uma quantia indeterminada de pesos e alturas de indivíduos. Este processo de leitura deve ser realizado enquanto o peso informado for maior que zero. Ao final, você deve apresentar a média aritmética dos pesos dos indivíduos em sobrepeso, somente."
   ]
  },
  {
   "cell_type": "code",
   "execution_count": null,
   "metadata": {},
   "outputs": [],
   "source": [
    "soma_pesos = 0\n",
    "qtde_sobrepeso=0\n",
    "\n",
    "while True:\n",
    "    try:\n",
    "        peso = float(input(\"Informe o peso\"))\n",
    "        if peso <=0:\n",
    "            break\n",
    "        altura = float(input(\"Informa sua altura (m)\"))\n",
    "    except ValueError:\n",
    "        print(\"Valor inválido. Informe novamente\")\n",
    "        continue\n",
    "    imc = peso/(altura**2)\n",
    "    if imc >=25 and imc<30:\n",
    "        soma_pesos+=peso\n",
    "        qtde_sobrepeso+=1\n",
    "if qtde_sobrepeso:\n",
    "    print(f\"A média de peso dos indivíduos em situação de sobrepeso é {round(soma_pesos/qtde_sobrepeso)}\")\n",
    "else:\n",
    "    print(\"Nenhum indivíduo encontra-se em sobrepeso\")"
   ]
  },
  {
   "cell_type": "markdown",
   "metadata": {},
   "source": [
    "### Exercício 2 [2.5 pontos]\n",
    "\n",
    "\n",
    "Você recebeu a tarefa de desenvolver o código responsável por testar a força das senhas de uma plataforma web. Os requisitos mínimos para que a senha seja aceita são:\n",
    "\n",
    "- 8 caracteres\n",
    "- Presença de letras\n",
    "- Presença de números\n",
    "- Presença de um destes símbolos: *(@#$&)*\n",
    "\n",
    "\n",
    "Seu programa deverá solicitar a senha, validar de acordo com os critérios e apresentar como saída um dos seguintes resultados:\n",
    "- SENHA VÁLIDA\n",
    "- SENHA INVÁLIDA - TAMANHO\n",
    "- SENHA INVÁLIDA - AUSÊNCIA DE LETRAS\n",
    "- SENHA INVÁLIDA - AUSÊNCIA DE NÚMEROS\n",
    "- SENHA INVÁLIDA - AUSÊNCIA DE CARACTERES ESPECIAIS\n"
   ]
  },
  {
   "cell_type": "code",
   "execution_count": null,
   "metadata": {},
   "outputs": [],
   "source": [
    "senha = input(\"Informe sua senha\")\n",
    "\n",
    "if len(senha)<8:\n",
    "    print(\"SENHA INVÁLIDA - TAMANHO\")\n",
    "else:\n",
    "    requisitos = {\n",
    "        'numero':0,\n",
    "         'letra':0,\n",
    "         'especial':0\n",
    "\n",
    "    }\n",
    "    for caractere in senha:\n",
    "        if caractere.isdigit():\n",
    "            requisitos['numero']+=1\n",
    "        if caractere.isalpha():\n",
    "            requisitos['letra']+=1\n",
    "        if caractere in ['(','@','#','$','&',')']:\n",
    "            requisitos['especial']+=1\n",
    "    \n",
    "    if requisitos['letra']==0:\n",
    "        print(\"SENHA INVÁLIDA - AUSÊNCIA DE LETRAS\")\n",
    "    elif requisitos['numero']==0:\n",
    "        print(\"SENHA INVÁLIDA - AUSÊNCIA DE NÚMEROS\")\n",
    "    elif requisitos['especial']==0:\n",
    "        print(\"SENHA INVÁLIDA - AUSÊNCIA DE CARACTERES ESPECIAIS\")\n",
    "    else:\n",
    "        print(\"SENHA VÁLIDA\")\n",
    "\n",
    "        "
   ]
  },
  {
   "cell_type": "markdown",
   "metadata": {},
   "source": [
    "### Exercício 3 [2.5 pontos]\n",
    "\n",
    "Em estatística, **moda** é uma medida que define o valor que mais se repete em uma amostra (conjunto de valores). Por exemplo, no conjunto de dados *5, 6, 8, 5, 9* temos *5* como sendo a moda.\n",
    "\t\n",
    "Sabendo disso, elabore uma função que, a partir de uma lista de valores inteiros informado por parâmetro, retorna a respectiva moda."
   ]
  },
  {
   "cell_type": "code",
   "execution_count": 2,
   "metadata": {},
   "outputs": [
    {
     "name": "stdout",
     "output_type": "stream",
     "text": [
      "5\n",
      "4\n"
     ]
    }
   ],
   "source": [
    "def calcular_moda(valores):\n",
    "    frequencia={}\n",
    "    for valor in valores:\n",
    "        if valor not in frequencia:\n",
    "            frequencia[valor]=1\n",
    "        else:\n",
    "            frequencia[valor]+=1\n",
    "\n",
    "    return max(frequencia,key=frequencia.get)\n",
    "\n",
    "print(calcular_moda([5,6,8,5,9]))\n",
    "print(calcular_moda([1, 2, 3, 3, 4, 4, 4, 5, 6]))\n"
   ]
  },
  {
   "cell_type": "markdown",
   "metadata": {},
   "source": [
    "### Exercício 4 [2.5 pontos]\n",
    "\n",
    "Elabore um programa que leia um arquivo de entrada contendo registros de temperatura obtidos de uma estação metereológica. \n",
    "\n",
    "Cada linha do arquivo de entrada contém os seguintes dados, separados por **vírgulas**: **data, hora, temperatura medida**. \n",
    "\n",
    "O programa deve processar esses dados e gerar um arquivo de saída que contenha a **média da temperatura**, **temperatura máxima** e **temperatura mínima** de todo o período da medição, escrevendo em uma única linha os três valores separados por ponto-e-vírgula.\n"
   ]
  },
  {
   "cell_type": "code",
   "execution_count": 21,
   "metadata": {},
   "outputs": [],
   "source": [
    "### Criando o arquivo de exemplo:\n",
    "\n",
    "with open(\"temperaturas.txt\",\"w\") as f:\n",
    "    f.writelines([\n",
    "        '2023-06-26,13:30,25.5\\n',\n",
    "        '2023-06-26,14:00,26.0\\n',\n",
    "        '2023-06-26,14:30,26.5\\n',\n",
    "        '2023-06-26,15:00,27.0\\n',\n",
    "        '2023-06-26,15:30,27.5\\n'\n",
    "     ]\n",
    "    )"
   ]
  },
  {
   "cell_type": "code",
   "execution_count": 25,
   "metadata": {},
   "outputs": [],
   "source": [
    "#Programa que lê o arquivo\n",
    "\n",
    "temperaturas=[]\n",
    "with open(\"temperaturas.txt\",\"r\") as f:\n",
    "    for linha in f.readlines():\n",
    "        _, _, temp = linha.strip().split(\",\")\n",
    "        temperaturas.append( float(temp))\n",
    "\n",
    "with open(\"resultado.txt\",\"w\") as f:\n",
    "    f.write(f\"{sum(temperaturas)/len(temperaturas)};{max(temperaturas)};{min(temperaturas)}\")"
   ]
  }
 ],
 "metadata": {
  "kernelspec": {
   "display_name": "Python 3",
   "language": "python",
   "name": "python3"
  },
  "language_info": {
   "codemirror_mode": {
    "name": "ipython",
    "version": 3
   },
   "file_extension": ".py",
   "mimetype": "text/x-python",
   "name": "python",
   "nbconvert_exporter": "python",
   "pygments_lexer": "ipython3",
   "version": "3.12.4"
  }
 },
 "nbformat": 4,
 "nbformat_minor": 2
}
