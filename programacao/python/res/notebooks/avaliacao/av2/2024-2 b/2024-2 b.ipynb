{
 "cells": [
  {
   "cell_type": "markdown",
   "metadata": {},
   "source": [
    "### Instruções\n",
    "\n",
    "- Esta avaliação tem peso **4** na média final da disciplina\n",
    "- Faça os exercícios com atenção. Em caso de dúvidas, peça ajuda ao professor\n",
    "- NÃO é permitido acesso à Internet ou meios de comunicação durante a realização da avaliação\n",
    "- Você pode utilizar qualquer material de consulta, físico ou digital, disponível, desde que seja off-line\n",
    "- A entrega será no Moodle, em uma atividade específica.\n",
    "- De tempos em tempos salve as alterações deste documento para não perder seu trabalho em caso de queda de energia ou algo semelhantes."
   ]
  },
  {
   "cell_type": "markdown",
   "metadata": {},
   "source": [
    "### Exercício 1 [2.5 pontos]\n",
    "\n",
    "O Instituto Bem Viver está realizando uma pesquisa para identificar a média aritmética de peso dos adultos com sobrepeso. Segundo a Organização Mundial da Saúde (OMS), encontra-se em sobrepeso todo indivíduo cujo Índice de Massa Corpórea (IMC) é **maior ou igual a 25 e menor que 30**. O cálculo do IMC ocorre em função do peso (Kg) e da altura (em metros) do indivíduo por meio da fórmula a seguir: \n",
    "\n",
    "$ IMC = \\frac{peso}{altura^2} $\n",
    "\n",
    "Para auxiliar os pesquisadores, você deve desenvolver um programa que leia uma quantia indeterminada de pesos e alturas de indivíduos. Este processo de leitura deve ser realizado enquanto o peso informado for maior que zero. Ao final, você deve apresentar a média aritmética dos pesos dos indivíduos em sobrepeso, somente."
   ]
  },
  {
   "cell_type": "code",
   "execution_count": null,
   "metadata": {},
   "outputs": [],
   "source": [
    "# Sua resposta aqui"
   ]
  },
  {
   "cell_type": "markdown",
   "metadata": {},
   "source": [
    "### Exercício 2 [2.5 pontos]\n",
    "\n",
    "\n",
    "Você recebeu a tarefa de desenvolver o código responsável por testar a força das senhas de uma plataforma web. Os requisitos mínimos para que a senha seja aceita são:\n",
    "\n",
    "- 8 caracteres\n",
    "- Presença de letras\n",
    "- Presença de números\n",
    "- Presença de um destes símbolos: *(@#$&)*\n",
    "\n",
    "\n",
    "Seu programa deverá solicitar a senha, validar de acordo com os critérios e apresentar como saída um dos seguintes resultados:\n",
    "- SENHA VÁLIDA\n",
    "- SENHA INVÁLIDA - TAMANHO\n",
    "- SENHA INVÁLIDA - AUSÊNCIA DE LETRAS\n",
    "- SENHA INVÁLIDA - AUSÊNCIA DE NÚMEROS\n",
    "- SENHA INVÁLIDA - AUSÊNCIA DE CARACTERES ESPECIAIS\n"
   ]
  },
  {
   "cell_type": "code",
   "execution_count": null,
   "metadata": {},
   "outputs": [],
   "source": [
    "# Sua resposta aqui"
   ]
  },
  {
   "cell_type": "markdown",
   "metadata": {},
   "source": [
    "### Exercício 3 [2.5 pontos]\n",
    "\n",
    "Em estatística, **moda** é uma medida que define o valor que mais se repete em uma amostra (conjunto de valores). Por exemplo, no conjunto de dados *5, 6, 8, 5, 9* temos *5* como sendo a moda.\n",
    "\t\n",
    "Sabendo disso, elabore uma função que, a partir de uma lista de valores inteiros informado por parâmetro, retorna a respectiva moda."
   ]
  },
  {
   "cell_type": "code",
   "execution_count": null,
   "metadata": {},
   "outputs": [],
   "source": [
    "#Sua reposta aqui"
   ]
  },
  {
   "cell_type": "markdown",
   "metadata": {},
   "source": [
    "### Exercício 4 [2.5 pontos]\n",
    "\n",
    "Elabore um programa que leia um arquivo de entrada contendo registros de temperatura obtidos de uma estação metereológica. \n",
    "\n",
    "Cada linha do arquivo de entrada contém os seguintes dados, separados por **vírgulas**: **data, hora, temperatura medida**. \n",
    "\n",
    "O programa deve processar esses dados e gerar um arquivo de saída que contenha a **média da temperatura**, **temperatura máxima** e **temperatura mínima** de todo o período da medição, escrevendo em uma única linha os três valores separados por ponto-e-vírgula.\n"
   ]
  },
  {
   "cell_type": "code",
   "execution_count": null,
   "metadata": {},
   "outputs": [],
   "source": [
    "#Sua reposta aqui"
   ]
  }
 ],
 "metadata": {
  "language_info": {
   "name": "python"
  }
 },
 "nbformat": 4,
 "nbformat_minor": 2
}
