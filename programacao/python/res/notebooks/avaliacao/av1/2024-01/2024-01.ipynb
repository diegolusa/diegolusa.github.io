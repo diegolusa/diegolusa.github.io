{
 "cells": [
  {
   "cell_type": "markdown",
   "metadata": {},
   "source": [
    "# Observações\n",
    "\n",
    "- Os programas devem ser desenvolvido em Python.\n",
    "- Não informe mensagens na função `input`. Lembre-se que a avaliação será automática e tais mensagens são consideradas como saída do programa.\n",
    "- A saída deve respeitar o formato definido, em termos de caixa dos caracteres e quantidade de espaços para ser válida.\n",
    "- A entrega deve ser feita no Moodle (notebook) e na plataforma [BeeCrowd](https://academic.beecrowd.com/)."
   ]
  },
  {
   "cell_type": "markdown",
   "metadata": {},
   "source": [
    "## Questão 1 [2.5 pontos]\n",
    "\n",
    "Desenvolva um programa em Python que leia uma quantidade indefinida de valores fornecidos pelo usuário, até que seja inserida a letra `P`. Ao receber `P` , o programa deverá determinar e exibir o **menor número ímpar** e o **maior número par** dentre os valores inteiros fornecidos.\n",
    "\n",
    "**Orientações**\n",
    "\n",
    "- O programa deve solicitar ao usuário valores repetidamente enquanto `P` não for informado. \n",
    "- A caixa dos caracteres não importa\n",
    "- O programa deve calcular e exibir corretamente o menor número ímpar e o maior número par entre os números fornecidos.\n",
    "- O programa deve lidar adequadamente com possíveis entradas inválidas, como letras ou símbolos não reconhecidos como números inteiros, ignorando-as.\n",
    "\n",
    "**Entrada**\n",
    "\n",
    "A entrada será composta por um número indeterminado de valores (numéricos e não numéricos). Todo valor não inteiro deve ser desconsiderado pelo programa (com exceção de `P`) e uma nova entrada deve ser solicitada.\n",
    "\n",
    "\n",
    "**Saída**\n",
    "\n",
    "Ao receber o valor `P`, o programa deve exibir **o maior valor par** e **menor valor ímpar**. Atenção ao padrão de saída esperado:\n",
    "\n",
    "- **NI** - Utilizar quando não houver ímpares na entrada.\n",
    "- **NP** - Utilizar quando não houver pares na entrada.\n",
    "- **MIN-IMPAR** - Utilizar para apresentar o menor valor ímpar.\n",
    "- **MAX-PAR** - Utilizar para apresentar o maior valor par.\n",
    "\n",
    "**Exemplo**\n",
    "\n",
    "| Entrada                      | Saída Esperada             |\n",
    "|------------------------------|----------------------------|\n",
    "| 3<br>5<br> 7<br> 9<br> 2<br> 4<br> P          | MIN-IMPAR: 3<br>MAX-PAR: 4  |\n",
    "| 10<br> 20<br> 30<br> P                | NI<br>MAX-PAR: 30 |\n",
    "\n",
    "\n"
   ]
  },
  {
   "cell_type": "code",
   "execution_count": null,
   "metadata": {},
   "outputs": [],
   "source": [
    "# Sua resposta aqui"
   ]
  },
  {
   "cell_type": "markdown",
   "metadata": {},
   "source": [
    "## Questão 2 [2.5 pontos]\n",
    "\n",
    "Elabora um programa para ler uma quantidade indefinida de strings. Apresentar, para cada string lida, a quantidade de vogais nelas existentes. Considere que a entrada não terá caracteres acentuados. \n",
    "\n",
    "O programa deve encerrar quando receber o valor `STOP`.\n",
    "\n",
    "\n",
    "| Exemplo de Entrada       | Saída        |\n",
    "|--------------------------|--------------|\n",
    "| Olá mundo                | 4            |\n",
    "| Python é incrível        | 6            |\n",
    "| Programação é divertida  | 8            |\n",
    "| STOP                     | |\n",
    "\n"
   ]
  },
  {
   "cell_type": "code",
   "execution_count": null,
   "metadata": {},
   "outputs": [],
   "source": [
    "# Sua resposta aqui"
   ]
  },
  {
   "cell_type": "markdown",
   "metadata": {},
   "source": [
    "## Questão 3 [2.5 pontos]\n",
    "\n",
    "Elabore um programa para calcular a média final (aritmética) de 5 estudantes da disciplina de *Algoritmos e Programação* 😁. Cada entrada compreenderá o **primeiro nome do estudante**, **nota da prova** e **nota do trabalho**, estando os valores separados por `;`. Ao final, apresente o nome do estudante com a maior média acompanhado da sua respectiva média (2 casas decimais).\n",
    "\n",
    "\n",
    "\n",
    "**Entrada**\n",
    "\n",
    "| ENTRADA                                                                  \t| SAÍDA      \t|\n",
    "|--------------------------------------------------------------------------\t|------------\t|\n",
    "| Emily;8.7;9.3<br>Daniel;7.9;8.5<br>Sophia;9.1;7.8<br>Jacob;8.3;9.0<br>Olivia;7.6;8.9 \t| Emily: 9.0 \t|\n",
    "| Aiden;8.2;7.5<br>Emma;9.4;8.6<br>Liam;7.8;9.2<br>Ava;8.9;7.7<br>Noah;9.1;8.3         \t| Emma: 9.0  \t|\n",
    "\n",
    "*Dica*: Para imprimir um valor real com duas casas decimais, você pode utilizar um comando o método *format* da string. Por exemplo, `print(\"{:.2f}\".format(2.445677))` irá imprimir `2.45`."
   ]
  },
  {
   "cell_type": "code",
   "execution_count": null,
   "metadata": {},
   "outputs": [],
   "source": [
    "# Sua resposta aqui\n"
   ]
  },
  {
   "cell_type": "markdown",
   "metadata": {},
   "source": [
    "## Questão 4 [2.5 pontos]\n",
    "\n",
    "Um estudante de engenharia precisa calcular a área de uma grande quantidade de formas geométricas, de três tipos diferentes: *quadrados*, *trapézios* e *retângulos*. Com o objetivo de facilitar seu trabalho, o estudante pensa desenvolver um programa em Python para realizar todos os cálculos de maneira automática.\n",
    "\n",
    "\n",
    "**Fórmulas**\n",
    "\n",
    "- Para calcular a área de **quadrados** e **retângulos**, aplica-se a fórmula:\n",
    "\n",
    " $$area = lado * lado$$\n",
    "\n",
    "- E para área do **trapézio**:\n",
    "  \n",
    "$$area = (\\frac{base\\_maior + base\\_menor}{2}) * altura$$\n",
    "\n",
    "\n",
    "**Entrada**\n",
    "\n",
    "A entrada do programa será composto por uma quantidade indeterminada de medidas de lados, conforme o modelo da tabela que segue. Os valores estarão separados por um espaço. Importante salientar que, ao receber todas as medidas iguais a `0`, o programa deve parar sua execução.\n",
    "\n",
    "\n",
    "\n",
    "|   Forma   \t| Padrão de Entrada \t|                                           Descrição                                                                                               \t|\n",
    "|:---------:\t|:-----------------:\t|:-----------------------------------------------------------------------------------------------------------------------:\t                            |\n",
    "|  Quadrado \t|       Q 1 1       \t| **Q** indica que é um quadrado; 1 1 representam a medida dos lados; Valores são separados por espaço                        \t                        |\n",
    "| Retângulo \t|       R 1 1       \t| **R** indica que é um retângulo; 1 1 representam a medida dos lados; Valores são separados por espaço                                             \t|\n",
    "|  Trapézio \t|      T 1 1 1      \t| **T** indica que é um trapézio; 1 1 1 representam, respectivamente, a medida da base maior, base menor e altura; Valores são separados por espaço. \t|\n",
    "\n",
    "\n",
    "\n",
    "**Saída**\n",
    "\n",
    "Para cada conjunto de medidas de lados, o programa deve imprimir área calculada, utilizando 2 casas decimais.\n",
    "\n",
    "\n",
    "**Exemplos**\n",
    "\n",
    "\n",
    "| Entrada    | Saída  |\n",
    "|------------|--------|\n",
    "| Q 5 5      | 25     |\n",
    "| R 4 6      | 24     |\n",
    "| T 3 4 5    | 17.5   |\n",
    "| Q 7 7      | 49     |\n",
    "| R 8 3      | 24     |\n",
    "| T 6 5 4    | 22     |\n",
    "| Q 9 9      | 81     |\n",
    "| R 5 10     | 50     |\n",
    "| T 7 8 6    | 45     |\n",
    "| Q 3 3      | 9      |\n",
    "| Q 0 0      |        |\n"
   ]
  },
  {
   "cell_type": "code",
   "execution_count": null,
   "metadata": {},
   "outputs": [],
   "source": [
    "# sua resposta aqui"
   ]
  }
 ],
 "metadata": {
  "kernelspec": {
   "display_name": "Python 3",
   "language": "python",
   "name": "python3"
  },
  "language_info": {
   "codemirror_mode": {
    "name": "ipython",
    "version": 3
   },
   "file_extension": ".py",
   "mimetype": "text/x-python",
   "name": "python",
   "nbconvert_exporter": "python",
   "pygments_lexer": "ipython3",
   "version": "3.11.3"
  }
 },
 "nbformat": 4,
 "nbformat_minor": 2
}
