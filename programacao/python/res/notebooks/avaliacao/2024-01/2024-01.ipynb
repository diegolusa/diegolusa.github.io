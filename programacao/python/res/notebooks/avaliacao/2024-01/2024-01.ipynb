{
 "cells": [
  {
   "cell_type": "markdown",
   "metadata": {},
   "source": [
    "**Questão 1:**\n",
    "\n",
    "Desenvolva um programa em Python que leia uma quantidade indefinida de números inteiros fornecidos pelo usuário até que seja inserida a letra 'P'. Uma vez que a letra 'P' seja inserida, o programa deverá determinar e exibir o **menor número ímpar** e o **maior número par** dentre os valores fornecidos.\n",
    "\n",
    "**Orientações**\n",
    "\n",
    "- O programa deve solicitar ao usuário que insira números inteiros repetidamente até que a letra 'P' seja inserida. Não importa se maiúscula ou minúscula.\n",
    "- O programa deve calcular e exibir corretamente o menor número ímpar e o maior número par entre os números fornecidos.\n",
    "- O programa deve lidar adequadamente com possíveis entradas inválidas, como letras ou símbolos não reconhecidos como números inteiros. O tratamento dado deve ser ignorá-los.\n",
    "\n",
    "**Observações:**\n",
    "\n",
    "- O programa deve ser desenvolvido em Python.\n",
    "- Não informe mensagens na função `input`. Lembre-se que a avaliação é automática e tais mensagens são consideradas como saída do programa.\n",
    "- A saída deve respeitar o formato definido, na caixa dos caracteres e quantidade de espaços para ser válida.\n",
    "\n",
    "\n",
    "| Entrada                      | Saída Esperada             |\n",
    "|------------------------------|----------------------------|\n",
    "| 3, 5, 7, 9, 2, 4, P          | MIN-IMPAR: 3, MAX-PAR: 4  |\n",
    "| 10, 20, 30, P                | NI, MAX-PAR: 30 |\n",
    "| 1, 6, 4, 8, 2, 5, 3, P       | MIN-IMPAR: 1, MAX-PAR: 8 |\n",
    "| 12, 18, 25, 31, 42, P        | MIN-IMPAR: 25, MAX-PAR: 42 |\n",
    "| 101, 201, 301, 401, P        | MIN-IMPAR: 101, NP |\n"
   ]
  },
  {
   "cell_type": "code",
   "execution_count": 1,
   "metadata": {},
   "outputs": [
    {
     "name": "stdout",
     "output_type": "stream",
     "text": [
      "MIN-IMPAR: 5\n",
      "MAX-PAR: 10\n"
     ]
    }
   ],
   "source": [
    "numeros = []\n",
    "while True:\n",
    "    num = input(\"Digite um número inteiro ou 'P' para parar: \")\n",
    "    if num.lower() == 'p':\n",
    "        break\n",
    "    try:\n",
    "        num = int(num)\n",
    "        numeros.append(num)\n",
    "    except ValueError:\n",
    "        continue\n",
    "\n",
    "impares = [x for x in numeros if x % 2 != 0]\n",
    "pares = [x for x in numeros if x % 2 == 0]\n",
    "\n",
    "if impares:\n",
    "    menor_impar = min(impares)\n",
    "    print(f\"MIN-IMPAR: {menor_impar}\")\n",
    "else:\n",
    "    print(\"NI\")\n",
    "\n",
    "if pares:\n",
    "    maior_par = max(pares)\n",
    "    print(f\"MAX-PAR: {maior_par}\")\n",
    "else:\n",
    "    print(\"NP\")\n",
    "\n"
   ]
  },
  {
   "cell_type": "markdown",
   "metadata": {},
   "source": [
    "Ler uma quantidade indefinida de strings até encontrar a palavra STOP. Apresentar, de cada string lida, a quantidade de vogais nelas existentes."
   ]
  },
  {
   "cell_type": "markdown",
   "metadata": {},
   "source": [
    "Receber o peso e altura de 10 pessoas. Calcular o IMC e apresentar o resultado conforme a tabela abaixo\n",
    "\n",
    "\n",
    "https://www.tuasaude.com/calculadora/imc/#:~:text=O%20IMC%20%C3%A9%20calculado%20dividindo%20o%20peso%20%28em,resultado%20de%20IMC%20%C3%A9%20dado%20em%20kg%2Fm%202."
   ]
  },
  {
   "cell_type": "markdown",
   "metadata": {},
   "source": [
    "Receber a BASE maior, base menor e altura de um trapézio em uma única entrada. Calcular a área através da fórmula.\n",
    "\n",
    "Se um dos valores é zero, pára o programa\n",
    "\n",
    "https://www.todamateria.com.br/area-do-trapezio/"
   ]
  }
 ],
 "metadata": {
  "kernelspec": {
   "display_name": "Python 3",
   "language": "python",
   "name": "python3"
  },
  "language_info": {
   "codemirror_mode": {
    "name": "ipython",
    "version": 3
   },
   "file_extension": ".py",
   "mimetype": "text/x-python",
   "name": "python",
   "nbconvert_exporter": "python",
   "pygments_lexer": "ipython3",
   "version": "3.11.3"
  }
 },
 "nbformat": 4,
 "nbformat_minor": 2
}
