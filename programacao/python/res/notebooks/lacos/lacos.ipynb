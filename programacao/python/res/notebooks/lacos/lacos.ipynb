{
 "cells": [
  {
   "cell_type": "markdown",
   "metadata": {},
   "source": [
    "Escreva um programa que solicite ao usuário um número e imprima a soma de todos os digitos que o compõem."
   ]
  },
  {
   "cell_type": "code",
   "execution_count": null,
   "metadata": {},
   "outputs": [],
   "source": [
    "# sua resposta aqui"
   ]
  },
  {
   "cell_type": "markdown",
   "metadata": {},
   "source": [
    "Escreva um programa que solicite ao usuário um número e imprima se é primo ou não"
   ]
  },
  {
   "cell_type": "code",
   "execution_count": null,
   "metadata": {},
   "outputs": [],
   "source": [
    "# sua resposta aqui"
   ]
  },
  {
   "cell_type": "markdown",
   "metadata": {},
   "source": [
    "Escreva um programa que imprima os números pares de 1 a 100 usando um loop **for** de 3 em 3 unidades."
   ]
  },
  {
   "cell_type": "code",
   "execution_count": null,
   "metadata": {},
   "outputs": [],
   "source": [
    "# sua resposta aqui"
   ]
  },
  {
   "cell_type": "markdown",
   "metadata": {},
   "source": [
    "Escreva um programa que solicite ao usuário um número e imprima a tabuada desse número."
   ]
  },
  {
   "cell_type": "code",
   "execution_count": null,
   "metadata": {},
   "outputs": [],
   "source": [
    "# sua resposta aqui"
   ]
  },
  {
   "cell_type": "markdown",
   "metadata": {},
   "source": [
    "Escreva um programa que imprima os números de 1 a 30 usando um loop **while**."
   ]
  },
  {
   "cell_type": "code",
   "execution_count": null,
   "metadata": {},
   "outputs": [],
   "source": [
    "# sua resposta aqui"
   ]
  },
  {
   "cell_type": "markdown",
   "metadata": {},
   "source": [
    "Precisamos desenvolver um programa que calcule a média aritmética dos números pares e dos números ímpares de sequências numéricas de tamanhos variáveis. Sobre a entrada de dados ao programa, devemos considerar que será uma quantidade x de valores inteiros. A finalização da sequência será estabelecida pelo valor −1 ou −2. Observe a diferença:\n",
    "\n",
    "- Ao receber −1, o programa deve apresentar a média aritmética dos valores pares e dos valores ímpares da sequência (desconsiderando o  −1 ) e então **aguardar a entrada de uma nova sequência**.\n",
    "- Ao receber −2, o programa deve apresentar a média dos valores pares e dos valores ímpares da sequência  (desconsiderando o  −2) e **finalizar o programa**.\n",
    "\n",
    "Exemplo de entrada:\n",
    "\n",
    "|ENTRADA|\n",
    "|--------------------------------|\n",
    "|177  278  117  263  196  295  167  12  -1|\n",
    "|206  201  193  276  215  171  -2|\n",
    "\n",
    "Exemplo de saída:\n",
    "\n",
    "|SAÍDA|\n",
    "|--------------------------------|\n",
    "|MP = 162 MI = 203.8|\n",
    "|MP = 241 MI = 195|"
   ]
  },
  {
   "cell_type": "code",
   "execution_count": null,
   "metadata": {},
   "outputs": [],
   "source": [
    "#Sua resposta aqui"
   ]
  },
  {
   "cell_type": "markdown",
   "metadata": {},
   "source": [
    "Caixas eletrônicos precisam ter a capacidade de estipular a combinação correta de cédulas necessárias para chegar a um determinado valor solicitado pelo correntista em operações de saque. De forma semelhante, alguns sistemas de venda ao consumidor apresentam tal informação para auxiliar o operador na elaboração do troco.\n",
    "\n",
    "Vamos considerar nossa moeda, o Real, como contexto para elaboração do programa. Sabemos que estão disponíveis cédulas com valores de *R$ 200*, *R$ 100*, *R$ 50*, *R$ 20*,*R$ 10*, *R$ 5* e *R$ 2*  e moedas de *R$ 1.00*, *R$ 0.50*, *R$ 0.25*, *R$ 0.10*,  *R$ 0.05* e *R$ 0.01*.\n",
    "\n",
    "A entrada do programa será um valor real arbitrário, positivo, com duas casas decimais. A saída, por sua vez, será a lista de cédulas e moedas, com as respectivas quantidades, necessárias para chegar ao valor informado.\n",
    "\n",
    "\n",
    "Por exemplo, se informado *9.69*, o resultado esperado é:\n",
    "\n",
    "|SAÍDA|\n",
    "|-------------------|\n",
    "|1 NOTAS DE R$ 5    |\n",
    "|2 NOTAS DE R$ 2    |\n",
    "|1 MOEDAS DE R$ 0.50|\n",
    "|1 MOEDAS DE R$ 0.10|\n",
    "|1 MOEDAS DE R$ 0.05|\n",
    "|4 MOEDAS DE R$ 0.01|\n",
    "\n",
    "\n"
   ]
  },
  {
   "cell_type": "code",
   "execution_count": null,
   "metadata": {},
   "outputs": [],
   "source": [
    "# Sua resposta aqui"
   ]
  },
  {
   "cell_type": "markdown",
   "metadata": {},
   "source": [
    "Será realizado um concurso público para preencher vagas no poder executivo de uma prefeitura qualquer. As regras de aprovação que o edital especifica são:\n",
    " \n",
    "- Nota nas disciplinas de Matemática, Direito Constitucional e Direito Público iguais ou superiores a 70 pontos;\n",
    "- Nota na Redação superior a 600 pontos.\n",
    "\n",
    "Para agilizar a apresentação dos resultados, a prefeitura nos solicitou o desenvolvimento de um programa para apresentar a lista de aprovados. Nesta lista, além de constar o nome do candidato, deverá estar presente:\n",
    "\n",
    "- Pontuação total do candidato (soma dos pontos obtidos nas disciplinas e redação);\n",
    "- Após o último candidato, apresentar a contagem de aprovados e média das notas finais deste grupo.\n",
    "\n",
    "Como entradas, o programa deverá receber um número ilimitado de candidatos e suas respectivas notas, somente finalizando ao encontrar como valor para nome a palavra FIM. As informações de candidato devem ser lidas na seguinte sequência: **nome**, **nota em matemática**, **nota em direito constitucional**,** nota em direito público** e **nota na redação**. Veja o exemplo que segue:\n",
    "\n",
    " \n",
    "\n",
    "Exemplo de entrada\n",
    "\n",
    "\n",
    "|**ENTRADA**\t|\n",
    "|--------------|\n",
    "|CANDIDATO1 94 91 93 800  |\n",
    "|CANDIDATO2 81 62 68 601  |\n",
    "|CANDIDATO3 88 96 84 600  |\n",
    "|CANDIDATO4 76 100 78 500 |\n",
    "|CANDIDATO5 85 82 80 650  |\n",
    "|CANDIDATO6 79 75 71 895  |\n",
    "|CANDIDATO7 95 64 97 425  |\n",
    "|CANDIDATO8 63 69 65 900  |\n",
    "|CANDIDATO9 67 74 89 658  |\n",
    "|CANDIDATO10 83 86 99 758 |\n",
    "|CANDIDATO11 73 66 77 864 |\n",
    "|CANDIDATO12 87 98 61 560 |\n",
    "|CANDIDATO13 60 72 70 500 |\n",
    "|CANDIDATO14 92 90 85 868 |\n",
    "|FIM                      |\n",
    "\n",
    "\n",
    "Resultado da entrada anterior:\n",
    "\n",
    "\n",
    "|**SAÍDA**\t|\n",
    "|-----------------------|\n",
    "|CANDIDATO1 - 1078 PONTOS  |\n",
    "|CANDIDATO5 - 897 PONTOS   |\n",
    "|CANDIDATO6 - 1120 PONTOS  |\n",
    "|CANDIDATO10 - 1026 PONTOS |\n",
    "|CANDIDATO14 - 1135 PONTOS |\n",
    "|APROVADOS: 5              |\n",
    "|MÉDIA: 1051.20            |\n",
    "\n"
   ]
  },
  {
   "cell_type": "code",
   "execution_count": null,
   "metadata": {},
   "outputs": [],
   "source": [
    "# Sua resposta aqui"
   ]
  }
 ],
 "metadata": {
  "kernelspec": {
   "display_name": "my-site-KsrRK7N3-py3.11",
   "language": "python",
   "name": "python3"
  },
  "language_info": {
   "codemirror_mode": {
    "name": "ipython",
    "version": 3
   },
   "file_extension": ".py",
   "mimetype": "text/x-python",
   "name": "python",
   "nbconvert_exporter": "python",
   "pygments_lexer": "ipython3",
   "version": "3.11.3"
  }
 },
 "nbformat": 4,
 "nbformat_minor": 2
}
